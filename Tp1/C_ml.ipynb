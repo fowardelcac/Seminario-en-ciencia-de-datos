{
 "cells": [
  {
   "cell_type": "code",
   "execution_count": 7,
   "metadata": {},
   "outputs": [],
   "source": [
    "import pandas as pd\n",
    "from sklearn.preprocessing import MinMaxScaler, OrdinalEncoder, OneHotEncoder\n",
    "from sklearn.model_selection import train_test_split"
   ]
  },
  {
   "cell_type": "code",
   "execution_count": 2,
   "metadata": {},
   "outputs": [
    {
     "data": {
      "text/html": [
       "<div>\n",
       "<style scoped>\n",
       "    .dataframe tbody tr th:only-of-type {\n",
       "        vertical-align: middle;\n",
       "    }\n",
       "\n",
       "    .dataframe tbody tr th {\n",
       "        vertical-align: top;\n",
       "    }\n",
       "\n",
       "    .dataframe thead th {\n",
       "        text-align: right;\n",
       "    }\n",
       "</style>\n",
       "<table border=\"1\" class=\"dataframe\">\n",
       "  <thead>\n",
       "    <tr style=\"text-align: right;\">\n",
       "      <th></th>\n",
       "      <th>Pais</th>\n",
       "      <th>Continente</th>\n",
       "      <th>Provincia</th>\n",
       "      <th>region_1</th>\n",
       "      <th>Descripcion</th>\n",
       "      <th>Sentimiento</th>\n",
       "      <th>Viñedo_especifico</th>\n",
       "      <th>Variedad</th>\n",
       "      <th>Bodega</th>\n",
       "      <th>Año</th>\n",
       "      <th>Antiguedad</th>\n",
       "      <th>Puntos</th>\n",
       "      <th>Precio</th>\n",
       "      <th>Ratio_puntos_precio</th>\n",
       "    </tr>\n",
       "  </thead>\n",
       "  <tbody>\n",
       "    <tr>\n",
       "      <th>0</th>\n",
       "      <td>Italy</td>\n",
       "      <td>Europa</td>\n",
       "      <td>Sicily &amp; Sardinia</td>\n",
       "      <td>Etna</td>\n",
       "      <td>aroma include tropical fruit broom brimstone d...</td>\n",
       "      <td>Positiva</td>\n",
       "      <td>Vulkà Bianco</td>\n",
       "      <td>White Blend</td>\n",
       "      <td>Nicosia</td>\n",
       "      <td>2013</td>\n",
       "      <td>11</td>\n",
       "      <td>87</td>\n",
       "      <td>28</td>\n",
       "      <td>3.107143</td>\n",
       "    </tr>\n",
       "    <tr>\n",
       "      <th>1</th>\n",
       "      <td>Portugal</td>\n",
       "      <td>Europa</td>\n",
       "      <td>Douro</td>\n",
       "      <td>Unknown</td>\n",
       "      <td>ripe fruity wine smooth structured firm tannin...</td>\n",
       "      <td>Positiva</td>\n",
       "      <td>Avidagos</td>\n",
       "      <td>Portuguese Red</td>\n",
       "      <td>Quinta dos Avidagos</td>\n",
       "      <td>2011</td>\n",
       "      <td>13</td>\n",
       "      <td>87</td>\n",
       "      <td>15</td>\n",
       "      <td>5.800000</td>\n",
       "    </tr>\n",
       "    <tr>\n",
       "      <th>2</th>\n",
       "      <td>US</td>\n",
       "      <td>America del norte</td>\n",
       "      <td>Michigan</td>\n",
       "      <td>Lake Michigan Shore</td>\n",
       "      <td>pineapple rind lemon pith orange blossom start...</td>\n",
       "      <td>Positiva</td>\n",
       "      <td>Reserve Late Harvest</td>\n",
       "      <td>Riesling</td>\n",
       "      <td>St. Julian</td>\n",
       "      <td>2013</td>\n",
       "      <td>11</td>\n",
       "      <td>87</td>\n",
       "      <td>13</td>\n",
       "      <td>6.692308</td>\n",
       "    </tr>\n",
       "    <tr>\n",
       "      <th>3</th>\n",
       "      <td>US</td>\n",
       "      <td>America del norte</td>\n",
       "      <td>Oregon</td>\n",
       "      <td>Willamette Valley</td>\n",
       "      <td>like regular bottling come rough tannic rustic...</td>\n",
       "      <td>Positiva</td>\n",
       "      <td>Vintner's Reserve Wild Child Block</td>\n",
       "      <td>Pinot Noir</td>\n",
       "      <td>Sweet Cheeks</td>\n",
       "      <td>2012</td>\n",
       "      <td>12</td>\n",
       "      <td>87</td>\n",
       "      <td>65</td>\n",
       "      <td>1.338462</td>\n",
       "    </tr>\n",
       "    <tr>\n",
       "      <th>4</th>\n",
       "      <td>Spain</td>\n",
       "      <td>Europa</td>\n",
       "      <td>Northern Spain</td>\n",
       "      <td>Navarra</td>\n",
       "      <td>blackberry raspberry aroma typical navarran wh...</td>\n",
       "      <td>Positiva</td>\n",
       "      <td>Ars In Vitro</td>\n",
       "      <td>Tempranillo-Merlot</td>\n",
       "      <td>Tandem</td>\n",
       "      <td>2011</td>\n",
       "      <td>13</td>\n",
       "      <td>87</td>\n",
       "      <td>15</td>\n",
       "      <td>5.800000</td>\n",
       "    </tr>\n",
       "  </tbody>\n",
       "</table>\n",
       "</div>"
      ],
      "text/plain": [
       "       Pais         Continente          Provincia             region_1  \\\n",
       "0     Italy             Europa  Sicily & Sardinia                 Etna   \n",
       "1  Portugal             Europa              Douro              Unknown   \n",
       "2        US  America del norte           Michigan  Lake Michigan Shore   \n",
       "3        US  America del norte             Oregon    Willamette Valley   \n",
       "4     Spain             Europa     Northern Spain              Navarra   \n",
       "\n",
       "                                         Descripcion Sentimiento  \\\n",
       "0  aroma include tropical fruit broom brimstone d...    Positiva   \n",
       "1  ripe fruity wine smooth structured firm tannin...    Positiva   \n",
       "2  pineapple rind lemon pith orange blossom start...    Positiva   \n",
       "3  like regular bottling come rough tannic rustic...    Positiva   \n",
       "4  blackberry raspberry aroma typical navarran wh...    Positiva   \n",
       "\n",
       "                    Viñedo_especifico            Variedad  \\\n",
       "0                        Vulkà Bianco         White Blend   \n",
       "1                            Avidagos      Portuguese Red   \n",
       "2                Reserve Late Harvest            Riesling   \n",
       "3  Vintner's Reserve Wild Child Block          Pinot Noir   \n",
       "4                        Ars In Vitro  Tempranillo-Merlot   \n",
       "\n",
       "                Bodega   Año  Antiguedad  Puntos  Precio  Ratio_puntos_precio  \n",
       "0              Nicosia  2013          11      87      28             3.107143  \n",
       "1  Quinta dos Avidagos  2011          13      87      15             5.800000  \n",
       "2           St. Julian  2013          11      87      13             6.692308  \n",
       "3         Sweet Cheeks  2012          12      87      65             1.338462  \n",
       "4               Tandem  2011          13      87      15             5.800000  "
      ]
     },
     "execution_count": 2,
     "metadata": {},
     "output_type": "execute_result"
    }
   ],
   "source": [
    "data = pd.read_excel(\"Wine_filtered.xlsx\")\n",
    "data.head()"
   ]
  },
  {
   "cell_type": "code",
   "execution_count": 10,
   "metadata": {},
   "outputs": [
    {
     "data": {
      "text/html": [
       "<div>\n",
       "<style scoped>\n",
       "    .dataframe tbody tr th:only-of-type {\n",
       "        vertical-align: middle;\n",
       "    }\n",
       "\n",
       "    .dataframe tbody tr th {\n",
       "        vertical-align: top;\n",
       "    }\n",
       "\n",
       "    .dataframe thead th {\n",
       "        text-align: right;\n",
       "    }\n",
       "</style>\n",
       "<table border=\"1\" class=\"dataframe\">\n",
       "  <thead>\n",
       "    <tr style=\"text-align: right;\">\n",
       "      <th></th>\n",
       "      <th>Pais</th>\n",
       "      <th>Provincia</th>\n",
       "      <th>Sentimiento</th>\n",
       "      <th>Variedad</th>\n",
       "      <th>Bodega</th>\n",
       "      <th>Año</th>\n",
       "      <th>Antiguedad</th>\n",
       "      <th>Puntos</th>\n",
       "      <th>Precio</th>\n",
       "      <th>Ratio_puntos_precio</th>\n",
       "    </tr>\n",
       "  </thead>\n",
       "  <tbody>\n",
       "    <tr>\n",
       "      <th>0</th>\n",
       "      <td>Italy</td>\n",
       "      <td>Sicily &amp; Sardinia</td>\n",
       "      <td>Positiva</td>\n",
       "      <td>White Blend</td>\n",
       "      <td>Nicosia</td>\n",
       "      <td>2013</td>\n",
       "      <td>11</td>\n",
       "      <td>87</td>\n",
       "      <td>28</td>\n",
       "      <td>3.107143</td>\n",
       "    </tr>\n",
       "    <tr>\n",
       "      <th>1</th>\n",
       "      <td>Portugal</td>\n",
       "      <td>Douro</td>\n",
       "      <td>Positiva</td>\n",
       "      <td>Portuguese Red</td>\n",
       "      <td>Quinta dos Avidagos</td>\n",
       "      <td>2011</td>\n",
       "      <td>13</td>\n",
       "      <td>87</td>\n",
       "      <td>15</td>\n",
       "      <td>5.800000</td>\n",
       "    </tr>\n",
       "  </tbody>\n",
       "</table>\n",
       "</div>"
      ],
      "text/plain": [
       "       Pais          Provincia Sentimiento        Variedad  \\\n",
       "0     Italy  Sicily & Sardinia    Positiva     White Blend   \n",
       "1  Portugal              Douro    Positiva  Portuguese Red   \n",
       "\n",
       "                Bodega   Año  Antiguedad  Puntos  Precio  Ratio_puntos_precio  \n",
       "0              Nicosia  2013          11      87      28             3.107143  \n",
       "1  Quinta dos Avidagos  2011          13      87      15             5.800000  "
      ]
     },
     "execution_count": 10,
     "metadata": {},
     "output_type": "execute_result"
    }
   ],
   "source": [
    "df = data.filter([\"Pais\", \"Provincia\", \"Sentimiento\", \"Variedad\", \"Bodega\", \"Año\", \"Antiguedad\", \"Puntos\", \"Precio\", \"Ratio_puntos_precio\"], axis = 1)\n",
    "df.head(2)"
   ]
  },
  {
   "cell_type": "code",
   "execution_count": 11,
   "metadata": {},
   "outputs": [
    {
     "name": "stderr",
     "output_type": "stream",
     "text": [
      "C:\\Users\\Positivo BGH\\AppData\\Local\\Temp\\ipykernel_2624\\1990950117.py:1: DeprecationWarning: DataFrameGroupBy.apply operated on the grouping columns. This behavior is deprecated, and in a future version of pandas the grouping columns will be excluded from the operation. Either pass `include_groups=False` to exclude the groupings or explicitly select the grouping columns after groupby to silence this warning.\n",
      "  df = df.groupby('Pais').apply(lambda x: x.assign(count=x['Pais'].count())).sort_values(by='count', ascending=False).reset_index(drop=True).drop(columns='count', axis=1)\n"
     ]
    },
    {
     "data": {
      "text/html": [
       "<div>\n",
       "<style scoped>\n",
       "    .dataframe tbody tr th:only-of-type {\n",
       "        vertical-align: middle;\n",
       "    }\n",
       "\n",
       "    .dataframe tbody tr th {\n",
       "        vertical-align: top;\n",
       "    }\n",
       "\n",
       "    .dataframe thead th {\n",
       "        text-align: right;\n",
       "    }\n",
       "</style>\n",
       "<table border=\"1\" class=\"dataframe\">\n",
       "  <thead>\n",
       "    <tr style=\"text-align: right;\">\n",
       "      <th></th>\n",
       "      <th>Pais</th>\n",
       "      <th>Provincia</th>\n",
       "      <th>Sentimiento</th>\n",
       "      <th>Variedad</th>\n",
       "      <th>Bodega</th>\n",
       "      <th>Año</th>\n",
       "      <th>Antiguedad</th>\n",
       "      <th>Puntos</th>\n",
       "      <th>Precio</th>\n",
       "      <th>Ratio_puntos_precio</th>\n",
       "    </tr>\n",
       "  </thead>\n",
       "  <tbody>\n",
       "    <tr>\n",
       "      <th>0</th>\n",
       "      <td>US</td>\n",
       "      <td>Michigan</td>\n",
       "      <td>Positiva</td>\n",
       "      <td>Riesling</td>\n",
       "      <td>St. Julian</td>\n",
       "      <td>2013</td>\n",
       "      <td>11</td>\n",
       "      <td>87</td>\n",
       "      <td>13</td>\n",
       "      <td>6.692308</td>\n",
       "    </tr>\n",
       "    <tr>\n",
       "      <th>1</th>\n",
       "      <td>US</td>\n",
       "      <td>California</td>\n",
       "      <td>Negativa</td>\n",
       "      <td>Zinfandel</td>\n",
       "      <td>Hendry</td>\n",
       "      <td>2012</td>\n",
       "      <td>12</td>\n",
       "      <td>90</td>\n",
       "      <td>35</td>\n",
       "      <td>2.571429</td>\n",
       "    </tr>\n",
       "  </tbody>\n",
       "</table>\n",
       "</div>"
      ],
      "text/plain": [
       "  Pais   Provincia Sentimiento   Variedad      Bodega   Año  Antiguedad  \\\n",
       "0   US    Michigan    Positiva   Riesling  St. Julian  2013          11   \n",
       "1   US  California    Negativa  Zinfandel      Hendry  2012          12   \n",
       "\n",
       "   Puntos  Precio  Ratio_puntos_precio  \n",
       "0      87      13             6.692308  \n",
       "1      90      35             2.571429  "
      ]
     },
     "execution_count": 11,
     "metadata": {},
     "output_type": "execute_result"
    }
   ],
   "source": [
    "df = df.groupby('Pais').apply(lambda x: x.assign(count=x['Pais'].count())).sort_values(by='count', ascending=False).reset_index(drop=True).drop(columns='count', axis=1) \n",
    "df.head(2)"
   ]
  },
  {
   "cell_type": "code",
   "execution_count": 12,
   "metadata": {},
   "outputs": [],
   "source": [
    "X = df.drop(\"Precio\", axis = 1)\n",
    "y = df.Precio\n",
    "X_train, X_test, y_train, y_test = train_test_split(X, y, test_size=0.33, random_state=42)"
   ]
  },
  {
   "cell_type": "code",
   "execution_count": 26,
   "metadata": {},
   "outputs": [],
   "source": [
    "from sklearn.compose import ColumnTransformer\n",
    "from sklearn.pipeline import Pipeline"
   ]
  },
  {
   "cell_type": "code",
   "execution_count": 27,
   "metadata": {},
   "outputs": [
    {
     "data": {
      "text/html": [
       "<div>\n",
       "<style scoped>\n",
       "    .dataframe tbody tr th:only-of-type {\n",
       "        vertical-align: middle;\n",
       "    }\n",
       "\n",
       "    .dataframe tbody tr th {\n",
       "        vertical-align: top;\n",
       "    }\n",
       "\n",
       "    .dataframe thead th {\n",
       "        text-align: right;\n",
       "    }\n",
       "</style>\n",
       "<table border=\"1\" class=\"dataframe\">\n",
       "  <thead>\n",
       "    <tr style=\"text-align: right;\">\n",
       "      <th></th>\n",
       "      <th>Pais</th>\n",
       "      <th>Provincia</th>\n",
       "      <th>Sentimiento</th>\n",
       "      <th>Variedad</th>\n",
       "      <th>Bodega</th>\n",
       "      <th>Antiguedad</th>\n",
       "      <th>Puntos</th>\n",
       "      <th>Ratio_puntos_precio</th>\n",
       "    </tr>\n",
       "  </thead>\n",
       "  <tbody>\n",
       "    <tr>\n",
       "      <th>0</th>\n",
       "      <td>38.0</td>\n",
       "      <td>48.0</td>\n",
       "      <td>0.0</td>\n",
       "      <td>465.0</td>\n",
       "      <td>4679.0</td>\n",
       "      <td>0.076190</td>\n",
       "      <td>0.25</td>\n",
       "      <td>0.182222</td>\n",
       "    </tr>\n",
       "    <tr>\n",
       "      <th>1</th>\n",
       "      <td>38.0</td>\n",
       "      <td>350.0</td>\n",
       "      <td>2.0</td>\n",
       "      <td>108.0</td>\n",
       "      <td>9549.0</td>\n",
       "      <td>0.038095</td>\n",
       "      <td>0.35</td>\n",
       "      <td>0.163914</td>\n",
       "    </tr>\n",
       "  </tbody>\n",
       "</table>\n",
       "</div>"
      ],
      "text/plain": [
       "   Pais  Provincia  Sentimiento  Variedad  Bodega  Antiguedad  Puntos  \\\n",
       "0  38.0       48.0          0.0     465.0  4679.0    0.076190    0.25   \n",
       "1  38.0      350.0          2.0     108.0  9549.0    0.038095    0.35   \n",
       "\n",
       "   Ratio_puntos_precio  \n",
       "0             0.182222  \n",
       "1             0.163914  "
      ]
     },
     "execution_count": 27,
     "metadata": {},
     "output_type": "execute_result"
    }
   ],
   "source": [
    "categorical_columns = ['Pais', 'Provincia', 'Sentimiento', 'Variedad', 'Bodega']\n",
    "numerical_columns = ['Antiguedad', 'Puntos', 'Ratio_puntos_precio']\n",
    "\n",
    "# Definir transformaciones para cada grupo de columnas\n",
    "preprocessor = ColumnTransformer(\n",
    "    transformers=[\n",
    "        ('cat', OrdinalEncoder(), categorical_columns),\n",
    "        ('num', MinMaxScaler(), numerical_columns)\n",
    "    ]\n",
    ")\n",
    "\n",
    "# Crear el pipeline\n",
    "pipeline = Pipeline(steps=[\n",
    "    ('preprocessor', preprocessor)\n",
    "])\n",
    "\n",
    "# Aplicar el pipeline a los datos de entrenamiento\n",
    "X_train_transformed = pipeline.fit_transform(X_train)\n",
    "\n",
    "# Convertir el resultado en un DataFrame para visualizarlo fácilmente\n",
    "X_train_transformed_df = pd.DataFrame(X_train_transformed, columns=categorical_columns + numerical_columns)\n",
    "\n",
    "X_train_transformed_df.head(2)"
   ]
  },
  {
   "cell_type": "code",
   "execution_count": 32,
   "metadata": {},
   "outputs": [],
   "source": [
    "from sklearn.ensemble import RandomForestRegressor\n",
    "from sklearn.metrics import r2_score"
   ]
  },
  {
   "cell_type": "code",
   "execution_count": 28,
   "metadata": {},
   "outputs": [],
   "source": [
    "model = RandomForestRegressor().fit(X_train_transformed_df, y_train)"
   ]
  },
  {
   "cell_type": "code",
   "execution_count": 29,
   "metadata": {},
   "outputs": [],
   "source": [
    "X_test_transformed = pipeline.fit_transform(X_test)\n",
    "\n",
    "# Convertir el resultado en un DataFrame para visualizarlo fácilmente\n",
    "X_test_transformed_df = pd.DataFrame(X_test_transformed, columns=categorical_columns + numerical_columns)"
   ]
  },
  {
   "cell_type": "code",
   "execution_count": 30,
   "metadata": {},
   "outputs": [],
   "source": [
    "y_pred = model.predict(X_test_transformed_df)"
   ]
  },
  {
   "cell_type": "code",
   "execution_count": 33,
   "metadata": {},
   "outputs": [
    {
     "data": {
      "text/plain": [
       "0.9343590893882951"
      ]
     },
     "execution_count": 33,
     "metadata": {},
     "output_type": "execute_result"
    }
   ],
   "source": [
    "r2_score(y_test, y_pred)"
   ]
  },
  {
   "cell_type": "code",
   "execution_count": 34,
   "metadata": {},
   "outputs": [],
   "source": [
    "import joblib"
   ]
  },
  {
   "cell_type": "code",
   "execution_count": 35,
   "metadata": {},
   "outputs": [
    {
     "data": {
      "text/plain": [
       "['model.pkl']"
      ]
     },
     "execution_count": 35,
     "metadata": {},
     "output_type": "execute_result"
    }
   ],
   "source": [
    "joblib.dump(model, 'model.pkl')\n",
    "\n",
    "# Cargar el modelo desde el archivo\n",
    "#model_cargado = joblib.load('model.pkl')"
   ]
  },
  {
   "cell_type": "code",
   "execution_count": null,
   "metadata": {},
   "outputs": [],
   "source": []
  }
 ],
 "metadata": {
  "kernelspec": {
   "display_name": ".venv",
   "language": "python",
   "name": "python3"
  },
  "language_info": {
   "codemirror_mode": {
    "name": "ipython",
    "version": 3
   },
   "file_extension": ".py",
   "mimetype": "text/x-python",
   "name": "python",
   "nbconvert_exporter": "python",
   "pygments_lexer": "ipython3",
   "version": "3.12.4"
  }
 },
 "nbformat": 4,
 "nbformat_minor": 2
}

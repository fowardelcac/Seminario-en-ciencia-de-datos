{
 "cells": [
  {
   "cell_type": "code",
   "execution_count": 1,
   "metadata": {},
   "outputs": [],
   "source": [
    "import pandas as pd\n",
    "import matplotlib.pyplot as plt\n",
    "import numpy as np\n",
    "from sklearn.impute import SimpleImputer"
   ]
  },
  {
   "cell_type": "code",
   "execution_count": 58,
   "metadata": {},
   "outputs": [
    {
     "data": {
      "text/html": [
       "<div>\n",
       "<style scoped>\n",
       "    .dataframe tbody tr th:only-of-type {\n",
       "        vertical-align: middle;\n",
       "    }\n",
       "\n",
       "    .dataframe tbody tr th {\n",
       "        vertical-align: top;\n",
       "    }\n",
       "\n",
       "    .dataframe thead th {\n",
       "        text-align: right;\n",
       "    }\n",
       "</style>\n",
       "<table border=\"1\" class=\"dataframe\">\n",
       "  <thead>\n",
       "    <tr style=\"text-align: right;\">\n",
       "      <th></th>\n",
       "      <th>country</th>\n",
       "      <th>description</th>\n",
       "      <th>designation</th>\n",
       "      <th>points</th>\n",
       "      <th>price</th>\n",
       "      <th>province</th>\n",
       "      <th>region_1</th>\n",
       "      <th>title</th>\n",
       "      <th>variety</th>\n",
       "      <th>winery</th>\n",
       "      <th>continent</th>\n",
       "      <th>sentiment</th>\n",
       "      <th>anio</th>\n",
       "      <th>Antiguedad</th>\n",
       "      <th>ratio_puntos_precio</th>\n",
       "    </tr>\n",
       "  </thead>\n",
       "  <tbody>\n",
       "    <tr>\n",
       "      <th>0</th>\n",
       "      <td>Italy</td>\n",
       "      <td>aroma include tropical fruit broom brimstone d...</td>\n",
       "      <td>Vulkà Bianco</td>\n",
       "      <td>87</td>\n",
       "      <td>28.0</td>\n",
       "      <td>Sicily &amp; Sardinia</td>\n",
       "      <td>Etna</td>\n",
       "      <td>Nicosia 2013 Vulkà Bianco  (Etna)</td>\n",
       "      <td>White Blend</td>\n",
       "      <td>Nicosia</td>\n",
       "      <td>Europa</td>\n",
       "      <td>Positive</td>\n",
       "      <td>2013</td>\n",
       "      <td>11</td>\n",
       "      <td>3.107143</td>\n",
       "    </tr>\n",
       "    <tr>\n",
       "      <th>1</th>\n",
       "      <td>Portugal</td>\n",
       "      <td>ripe fruity wine smooth structured firm tannin...</td>\n",
       "      <td>Avidagos</td>\n",
       "      <td>87</td>\n",
       "      <td>15.0</td>\n",
       "      <td>Douro</td>\n",
       "      <td>Unknown</td>\n",
       "      <td>Quinta dos Avidagos 2011 Avidagos Red (Douro)</td>\n",
       "      <td>Portuguese Red</td>\n",
       "      <td>Quinta dos Avidagos</td>\n",
       "      <td>Europa</td>\n",
       "      <td>Positive</td>\n",
       "      <td>2011</td>\n",
       "      <td>13</td>\n",
       "      <td>5.800000</td>\n",
       "    </tr>\n",
       "    <tr>\n",
       "      <th>3</th>\n",
       "      <td>US</td>\n",
       "      <td>pineapple rind lemon pith orange blossom start...</td>\n",
       "      <td>Reserve Late Harvest</td>\n",
       "      <td>87</td>\n",
       "      <td>13.0</td>\n",
       "      <td>Michigan</td>\n",
       "      <td>Lake Michigan Shore</td>\n",
       "      <td>St. Julian 2013 Reserve Late Harvest Riesling ...</td>\n",
       "      <td>Riesling</td>\n",
       "      <td>St. Julian</td>\n",
       "      <td>America del norte</td>\n",
       "      <td>Negative</td>\n",
       "      <td>2013</td>\n",
       "      <td>11</td>\n",
       "      <td>6.692308</td>\n",
       "    </tr>\n",
       "    <tr>\n",
       "      <th>4</th>\n",
       "      <td>US</td>\n",
       "      <td>like regular bottling come rough tannic rustic...</td>\n",
       "      <td>Vintner's Reserve Wild Child Block</td>\n",
       "      <td>87</td>\n",
       "      <td>65.0</td>\n",
       "      <td>Oregon</td>\n",
       "      <td>Willamette Valley</td>\n",
       "      <td>Sweet Cheeks 2012 Vintner's Reserve Wild Child...</td>\n",
       "      <td>Pinot Noir</td>\n",
       "      <td>Sweet Cheeks</td>\n",
       "      <td>America del norte</td>\n",
       "      <td>Positive</td>\n",
       "      <td>2012</td>\n",
       "      <td>12</td>\n",
       "      <td>1.338462</td>\n",
       "    </tr>\n",
       "    <tr>\n",
       "      <th>5</th>\n",
       "      <td>Spain</td>\n",
       "      <td>blackberry raspberry aroma typical navarran wh...</td>\n",
       "      <td>Ars In Vitro</td>\n",
       "      <td>87</td>\n",
       "      <td>15.0</td>\n",
       "      <td>Northern Spain</td>\n",
       "      <td>Navarra</td>\n",
       "      <td>Tandem 2011 Ars In Vitro Tempranillo-Merlot (N...</td>\n",
       "      <td>Tempranillo-Merlot</td>\n",
       "      <td>Tandem</td>\n",
       "      <td>Europa</td>\n",
       "      <td>Positive</td>\n",
       "      <td>2011</td>\n",
       "      <td>13</td>\n",
       "      <td>5.800000</td>\n",
       "    </tr>\n",
       "    <tr>\n",
       "      <th>...</th>\n",
       "      <td>...</td>\n",
       "      <td>...</td>\n",
       "      <td>...</td>\n",
       "      <td>...</td>\n",
       "      <td>...</td>\n",
       "      <td>...</td>\n",
       "      <td>...</td>\n",
       "      <td>...</td>\n",
       "      <td>...</td>\n",
       "      <td>...</td>\n",
       "      <td>...</td>\n",
       "      <td>...</td>\n",
       "      <td>...</td>\n",
       "      <td>...</td>\n",
       "      <td>...</td>\n",
       "    </tr>\n",
       "    <tr>\n",
       "      <th>129964</th>\n",
       "      <td>France</td>\n",
       "      <td>initially quite muted wine slowly develops imp...</td>\n",
       "      <td>Domaine Saint-Rémy Herrenweg</td>\n",
       "      <td>90</td>\n",
       "      <td>28.0</td>\n",
       "      <td>Alsace</td>\n",
       "      <td>Alsace</td>\n",
       "      <td>Domaine Ehrhart 2013 Domaine Saint-Rémy Herren...</td>\n",
       "      <td>Gewürztraminer</td>\n",
       "      <td>Domaine Ehrhart</td>\n",
       "      <td>Europa</td>\n",
       "      <td>Positive</td>\n",
       "      <td>2013</td>\n",
       "      <td>11</td>\n",
       "      <td>3.214286</td>\n",
       "    </tr>\n",
       "    <tr>\n",
       "      <th>129965</th>\n",
       "      <td>France</td>\n",
       "      <td>rich beautiful dry wine offer considerable fre...</td>\n",
       "      <td>Seppi Landmann Vallée Noble</td>\n",
       "      <td>90</td>\n",
       "      <td>28.0</td>\n",
       "      <td>Alsace</td>\n",
       "      <td>Alsace</td>\n",
       "      <td>Domaine Rieflé-Landmann 2013 Seppi Landmann Va...</td>\n",
       "      <td>Pinot Gris</td>\n",
       "      <td>Domaine Rieflé-Landmann</td>\n",
       "      <td>Europa</td>\n",
       "      <td>Positive</td>\n",
       "      <td>2013</td>\n",
       "      <td>11</td>\n",
       "      <td>3.214286</td>\n",
       "    </tr>\n",
       "    <tr>\n",
       "      <th>129966</th>\n",
       "      <td>Germany</td>\n",
       "      <td>note honeysuckle cantaloupe sweeten deliciousl...</td>\n",
       "      <td>Brauneberger Juffer-Sonnenuhr Spätlese</td>\n",
       "      <td>90</td>\n",
       "      <td>28.0</td>\n",
       "      <td>Mosel</td>\n",
       "      <td>Unknown</td>\n",
       "      <td>Dr. H. Thanisch (Erben Müller-Burggraef) 2013 ...</td>\n",
       "      <td>Riesling</td>\n",
       "      <td>Dr. H. Thanisch (Erben Müller-Burggraef)</td>\n",
       "      <td>Europa</td>\n",
       "      <td>Positive</td>\n",
       "      <td>2013</td>\n",
       "      <td>11</td>\n",
       "      <td>3.214286</td>\n",
       "    </tr>\n",
       "    <tr>\n",
       "      <th>129968</th>\n",
       "      <td>France</td>\n",
       "      <td>welldrained gravel soil give wine crisp dry ch...</td>\n",
       "      <td>Kritt</td>\n",
       "      <td>90</td>\n",
       "      <td>30.0</td>\n",
       "      <td>Alsace</td>\n",
       "      <td>Alsace</td>\n",
       "      <td>Domaine Gresser 2013 Kritt Gewurztraminer (Als...</td>\n",
       "      <td>Gewürztraminer</td>\n",
       "      <td>Domaine Gresser</td>\n",
       "      <td>Europa</td>\n",
       "      <td>Positive</td>\n",
       "      <td>2013</td>\n",
       "      <td>11</td>\n",
       "      <td>3.000000</td>\n",
       "    </tr>\n",
       "    <tr>\n",
       "      <th>129970</th>\n",
       "      <td>France</td>\n",
       "      <td>big rich offdry powered intense spiciness roun...</td>\n",
       "      <td>Lieu-dit Harth Cuvée Caroline</td>\n",
       "      <td>90</td>\n",
       "      <td>21.0</td>\n",
       "      <td>Alsace</td>\n",
       "      <td>Alsace</td>\n",
       "      <td>Domaine Schoffit 2012 Lieu-dit Harth Cuvée Car...</td>\n",
       "      <td>Gewürztraminer</td>\n",
       "      <td>Domaine Schoffit</td>\n",
       "      <td>Europa</td>\n",
       "      <td>Positive</td>\n",
       "      <td>2012</td>\n",
       "      <td>12</td>\n",
       "      <td>4.285714</td>\n",
       "    </tr>\n",
       "  </tbody>\n",
       "</table>\n",
       "<p>85394 rows × 15 columns</p>\n",
       "</div>"
      ],
      "text/plain": [
       "         country                                        description  \\\n",
       "0          Italy  aroma include tropical fruit broom brimstone d...   \n",
       "1       Portugal  ripe fruity wine smooth structured firm tannin...   \n",
       "3             US  pineapple rind lemon pith orange blossom start...   \n",
       "4             US  like regular bottling come rough tannic rustic...   \n",
       "5          Spain  blackberry raspberry aroma typical navarran wh...   \n",
       "...          ...                                                ...   \n",
       "129964    France  initially quite muted wine slowly develops imp...   \n",
       "129965    France  rich beautiful dry wine offer considerable fre...   \n",
       "129966   Germany  note honeysuckle cantaloupe sweeten deliciousl...   \n",
       "129968    France  welldrained gravel soil give wine crisp dry ch...   \n",
       "129970    France  big rich offdry powered intense spiciness roun...   \n",
       "\n",
       "                                   designation  points  price  \\\n",
       "0                                 Vulkà Bianco      87   28.0   \n",
       "1                                     Avidagos      87   15.0   \n",
       "3                         Reserve Late Harvest      87   13.0   \n",
       "4           Vintner's Reserve Wild Child Block      87   65.0   \n",
       "5                                 Ars In Vitro      87   15.0   \n",
       "...                                        ...     ...    ...   \n",
       "129964            Domaine Saint-Rémy Herrenweg      90   28.0   \n",
       "129965             Seppi Landmann Vallée Noble      90   28.0   \n",
       "129966  Brauneberger Juffer-Sonnenuhr Spätlese      90   28.0   \n",
       "129968                                   Kritt      90   30.0   \n",
       "129970           Lieu-dit Harth Cuvée Caroline      90   21.0   \n",
       "\n",
       "                 province             region_1  \\\n",
       "0       Sicily & Sardinia                 Etna   \n",
       "1                   Douro              Unknown   \n",
       "3                Michigan  Lake Michigan Shore   \n",
       "4                  Oregon    Willamette Valley   \n",
       "5          Northern Spain              Navarra   \n",
       "...                   ...                  ...   \n",
       "129964             Alsace               Alsace   \n",
       "129965             Alsace               Alsace   \n",
       "129966              Mosel              Unknown   \n",
       "129968             Alsace               Alsace   \n",
       "129970             Alsace               Alsace   \n",
       "\n",
       "                                                    title             variety  \\\n",
       "0                       Nicosia 2013 Vulkà Bianco  (Etna)         White Blend   \n",
       "1           Quinta dos Avidagos 2011 Avidagos Red (Douro)      Portuguese Red   \n",
       "3       St. Julian 2013 Reserve Late Harvest Riesling ...            Riesling   \n",
       "4       Sweet Cheeks 2012 Vintner's Reserve Wild Child...          Pinot Noir   \n",
       "5       Tandem 2011 Ars In Vitro Tempranillo-Merlot (N...  Tempranillo-Merlot   \n",
       "...                                                   ...                 ...   \n",
       "129964  Domaine Ehrhart 2013 Domaine Saint-Rémy Herren...      Gewürztraminer   \n",
       "129965  Domaine Rieflé-Landmann 2013 Seppi Landmann Va...          Pinot Gris   \n",
       "129966  Dr. H. Thanisch (Erben Müller-Burggraef) 2013 ...            Riesling   \n",
       "129968  Domaine Gresser 2013 Kritt Gewurztraminer (Als...      Gewürztraminer   \n",
       "129970  Domaine Schoffit 2012 Lieu-dit Harth Cuvée Car...      Gewürztraminer   \n",
       "\n",
       "                                          winery          continent sentiment  \\\n",
       "0                                        Nicosia             Europa  Positive   \n",
       "1                            Quinta dos Avidagos             Europa  Positive   \n",
       "3                                     St. Julian  America del norte  Negative   \n",
       "4                                   Sweet Cheeks  America del norte  Positive   \n",
       "5                                         Tandem             Europa  Positive   \n",
       "...                                          ...                ...       ...   \n",
       "129964                           Domaine Ehrhart             Europa  Positive   \n",
       "129965                   Domaine Rieflé-Landmann             Europa  Positive   \n",
       "129966  Dr. H. Thanisch (Erben Müller-Burggraef)             Europa  Positive   \n",
       "129968                           Domaine Gresser             Europa  Positive   \n",
       "129970                          Domaine Schoffit             Europa  Positive   \n",
       "\n",
       "        anio  Antiguedad  ratio_puntos_precio  \n",
       "0       2013          11             3.107143  \n",
       "1       2011          13             5.800000  \n",
       "3       2013          11             6.692308  \n",
       "4       2012          12             1.338462  \n",
       "5       2011          13             5.800000  \n",
       "...      ...         ...                  ...  \n",
       "129964  2013          11             3.214286  \n",
       "129965  2013          11             3.214286  \n",
       "129966  2013          11             3.214286  \n",
       "129968  2013          11             3.000000  \n",
       "129970  2012          12             4.285714  \n",
       "\n",
       "[85394 rows x 15 columns]"
      ]
     },
     "execution_count": 58,
     "metadata": {},
     "output_type": "execute_result"
    }
   ],
   "source": [
    "data"
   ]
  },
  {
   "cell_type": "code",
   "execution_count": 2,
   "metadata": {},
   "outputs": [
    {
     "data": {
      "text/html": [
       "<div>\n",
       "<style scoped>\n",
       "    .dataframe tbody tr th:only-of-type {\n",
       "        vertical-align: middle;\n",
       "    }\n",
       "\n",
       "    .dataframe tbody tr th {\n",
       "        vertical-align: top;\n",
       "    }\n",
       "\n",
       "    .dataframe thead th {\n",
       "        text-align: right;\n",
       "    }\n",
       "</style>\n",
       "<table border=\"1\" class=\"dataframe\">\n",
       "  <thead>\n",
       "    <tr style=\"text-align: right;\">\n",
       "      <th></th>\n",
       "      <th>country</th>\n",
       "      <th>description</th>\n",
       "      <th>designation</th>\n",
       "      <th>points</th>\n",
       "      <th>price</th>\n",
       "      <th>province</th>\n",
       "      <th>region_1</th>\n",
       "      <th>region_2</th>\n",
       "      <th>taster_name</th>\n",
       "      <th>taster_twitter_handle</th>\n",
       "      <th>title</th>\n",
       "      <th>variety</th>\n",
       "      <th>winery</th>\n",
       "    </tr>\n",
       "  </thead>\n",
       "  <tbody>\n",
       "    <tr>\n",
       "      <th>0</th>\n",
       "      <td>Italy</td>\n",
       "      <td>Aromas include tropical fruit, broom, brimston...</td>\n",
       "      <td>Vulkà Bianco</td>\n",
       "      <td>87</td>\n",
       "      <td>NaN</td>\n",
       "      <td>Sicily &amp; Sardinia</td>\n",
       "      <td>Etna</td>\n",
       "      <td>NaN</td>\n",
       "      <td>Kerin O’Keefe</td>\n",
       "      <td>@kerinokeefe</td>\n",
       "      <td>Nicosia 2013 Vulkà Bianco  (Etna)</td>\n",
       "      <td>White Blend</td>\n",
       "      <td>Nicosia</td>\n",
       "    </tr>\n",
       "    <tr>\n",
       "      <th>1</th>\n",
       "      <td>Portugal</td>\n",
       "      <td>This is ripe and fruity, a wine that is smooth...</td>\n",
       "      <td>Avidagos</td>\n",
       "      <td>87</td>\n",
       "      <td>15.0</td>\n",
       "      <td>Douro</td>\n",
       "      <td>NaN</td>\n",
       "      <td>NaN</td>\n",
       "      <td>Roger Voss</td>\n",
       "      <td>@vossroger</td>\n",
       "      <td>Quinta dos Avidagos 2011 Avidagos Red (Douro)</td>\n",
       "      <td>Portuguese Red</td>\n",
       "      <td>Quinta dos Avidagos</td>\n",
       "    </tr>\n",
       "  </tbody>\n",
       "</table>\n",
       "</div>"
      ],
      "text/plain": [
       "    country                                        description   designation  \\\n",
       "0     Italy  Aromas include tropical fruit, broom, brimston...  Vulkà Bianco   \n",
       "1  Portugal  This is ripe and fruity, a wine that is smooth...      Avidagos   \n",
       "\n",
       "   points  price           province region_1 region_2    taster_name  \\\n",
       "0      87    NaN  Sicily & Sardinia     Etna      NaN  Kerin O’Keefe   \n",
       "1      87   15.0              Douro      NaN      NaN     Roger Voss   \n",
       "\n",
       "  taster_twitter_handle                                          title  \\\n",
       "0          @kerinokeefe              Nicosia 2013 Vulkà Bianco  (Etna)   \n",
       "1            @vossroger  Quinta dos Avidagos 2011 Avidagos Red (Douro)   \n",
       "\n",
       "          variety               winery  \n",
       "0     White Blend              Nicosia  \n",
       "1  Portuguese Red  Quinta dos Avidagos  "
      ]
     },
     "execution_count": 2,
     "metadata": {},
     "output_type": "execute_result"
    }
   ],
   "source": [
    "df = pd.read_csv(\"vinos.csv\").drop(['Unnamed: 0'], axis=1)\n",
    "df.head(2)"
   ]
  },
  {
   "cell_type": "markdown",
   "metadata": {},
   "source": [
    "# Informacion basica"
   ]
  },
  {
   "cell_type": "code",
   "execution_count": 3,
   "metadata": {},
   "outputs": [
    {
     "name": "stdout",
     "output_type": "stream",
     "text": [
      "<class 'pandas.core.frame.DataFrame'>\n",
      "RangeIndex: 129971 entries, 0 to 129970\n",
      "Data columns (total 13 columns):\n",
      " #   Column                 Non-Null Count   Dtype  \n",
      "---  ------                 --------------   -----  \n",
      " 0   country                129908 non-null  object \n",
      " 1   description            129971 non-null  object \n",
      " 2   designation            92506 non-null   object \n",
      " 3   points                 129971 non-null  int64  \n",
      " 4   price                  120975 non-null  float64\n",
      " 5   province               129908 non-null  object \n",
      " 6   region_1               108724 non-null  object \n",
      " 7   region_2               50511 non-null   object \n",
      " 8   taster_name            103727 non-null  object \n",
      " 9   taster_twitter_handle  98758 non-null   object \n",
      " 10  title                  129971 non-null  object \n",
      " 11  variety                129970 non-null  object \n",
      " 12  winery                 129971 non-null  object \n",
      "dtypes: float64(1), int64(1), object(11)\n",
      "memory usage: 12.9+ MB\n"
     ]
    }
   ],
   "source": [
    "df.info()"
   ]
  },
  {
   "cell_type": "code",
   "execution_count": 4,
   "metadata": {},
   "outputs": [
    {
     "data": {
      "text/html": [
       "<div>\n",
       "<style scoped>\n",
       "    .dataframe tbody tr th:only-of-type {\n",
       "        vertical-align: middle;\n",
       "    }\n",
       "\n",
       "    .dataframe tbody tr th {\n",
       "        vertical-align: top;\n",
       "    }\n",
       "\n",
       "    .dataframe thead th {\n",
       "        text-align: right;\n",
       "    }\n",
       "</style>\n",
       "<table border=\"1\" class=\"dataframe\">\n",
       "  <thead>\n",
       "    <tr style=\"text-align: right;\">\n",
       "      <th></th>\n",
       "      <th>points</th>\n",
       "      <th>price</th>\n",
       "    </tr>\n",
       "  </thead>\n",
       "  <tbody>\n",
       "    <tr>\n",
       "      <th>count</th>\n",
       "      <td>129971.000000</td>\n",
       "      <td>120975.000000</td>\n",
       "    </tr>\n",
       "    <tr>\n",
       "      <th>mean</th>\n",
       "      <td>88.447138</td>\n",
       "      <td>35.363389</td>\n",
       "    </tr>\n",
       "    <tr>\n",
       "      <th>std</th>\n",
       "      <td>3.039730</td>\n",
       "      <td>41.022218</td>\n",
       "    </tr>\n",
       "    <tr>\n",
       "      <th>min</th>\n",
       "      <td>80.000000</td>\n",
       "      <td>4.000000</td>\n",
       "    </tr>\n",
       "    <tr>\n",
       "      <th>25%</th>\n",
       "      <td>86.000000</td>\n",
       "      <td>17.000000</td>\n",
       "    </tr>\n",
       "    <tr>\n",
       "      <th>50%</th>\n",
       "      <td>88.000000</td>\n",
       "      <td>25.000000</td>\n",
       "    </tr>\n",
       "    <tr>\n",
       "      <th>75%</th>\n",
       "      <td>91.000000</td>\n",
       "      <td>42.000000</td>\n",
       "    </tr>\n",
       "    <tr>\n",
       "      <th>max</th>\n",
       "      <td>100.000000</td>\n",
       "      <td>3300.000000</td>\n",
       "    </tr>\n",
       "  </tbody>\n",
       "</table>\n",
       "</div>"
      ],
      "text/plain": [
       "              points          price\n",
       "count  129971.000000  120975.000000\n",
       "mean       88.447138      35.363389\n",
       "std         3.039730      41.022218\n",
       "min        80.000000       4.000000\n",
       "25%        86.000000      17.000000\n",
       "50%        88.000000      25.000000\n",
       "75%        91.000000      42.000000\n",
       "max       100.000000    3300.000000"
      ]
     },
     "execution_count": 4,
     "metadata": {},
     "output_type": "execute_result"
    }
   ],
   "source": [
    "df.describe()"
   ]
  },
  {
   "cell_type": "code",
   "execution_count": 5,
   "metadata": {},
   "outputs": [
    {
     "data": {
      "text/plain": [
       "Index(['country', 'description', 'designation', 'points', 'price', 'province',\n",
       "       'region_1', 'region_2', 'taster_name', 'taster_twitter_handle', 'title',\n",
       "       'variety', 'winery'],\n",
       "      dtype='object')"
      ]
     },
     "execution_count": 5,
     "metadata": {},
     "output_type": "execute_result"
    }
   ],
   "source": [
    "df.columns"
   ]
  },
  {
   "cell_type": "markdown",
   "metadata": {},
   "source": [
    "Elimino las filas sin pais, ya que al ser pocas no creo que tengan gran influencia en la totalidad de los datos. Teniendo en cuenta que el pais es un elemento principal en la produccion del vino"
   ]
  },
  {
   "cell_type": "code",
   "execution_count": 6,
   "metadata": {},
   "outputs": [
    {
     "data": {
      "text/plain": [
       "count    120975.000000\n",
       "mean         35.363389\n",
       "std          41.022218\n",
       "min           4.000000\n",
       "25%          17.000000\n",
       "50%          25.000000\n",
       "75%          42.000000\n",
       "max        3300.000000\n",
       "Name: price, dtype: float64"
      ]
     },
     "execution_count": 6,
     "metadata": {},
     "output_type": "execute_result"
    }
   ],
   "source": [
    "hipotetic_px = df.price.dropna()\n",
    "hipotetic_px.describe()"
   ]
  },
  {
   "cell_type": "code",
   "execution_count": 7,
   "metadata": {},
   "outputs": [
    {
     "data": {
      "text/plain": [
       "np.float64(65.0)"
      ]
     },
     "execution_count": 7,
     "metadata": {},
     "output_type": "execute_result"
    }
   ],
   "source": [
    "np.percentile(hipotetic_px, 90)"
   ]
  },
  {
   "cell_type": "code",
   "execution_count": 8,
   "metadata": {},
   "outputs": [
    {
     "data": {
      "image/png": "[encoded data removed]",
      "text/plain": [
       "<Figure size 640x480 with 1 Axes>"
      ]
     },
     "metadata": {},
     "output_type": "display_data"
    }
   ],
   "source": [
    "price_filter = df.loc[df.price <= 65]['price']\n",
    "plt.hist(price_filter, label=\"Distribucion del precio, conservando valores menores al decil 0.9\")\n",
    "plt.legend()\n",
    "plt.show()"
   ]
  },
  {
   "cell_type": "code",
   "execution_count": 9,
   "metadata": {},
   "outputs": [
    {
     "name": "stdout",
     "output_type": "stream",
     "text": [
      "<class 'pandas.core.frame.DataFrame'>\n",
      "Index: 85394 entries, 0 to 129970\n",
      "Data columns (total 10 columns):\n",
      " #   Column       Non-Null Count  Dtype  \n",
      "---  ------       --------------  -----  \n",
      " 0   country      85394 non-null  object \n",
      " 1   description  85394 non-null  object \n",
      " 2   designation  85394 non-null  object \n",
      " 3   points       85394 non-null  int64  \n",
      " 4   price        85394 non-null  float64\n",
      " 5   province     85394 non-null  object \n",
      " 6   region_1     85394 non-null  object \n",
      " 7   title        85394 non-null  object \n",
      " 8   variety      85394 non-null  object \n",
      " 9   winery       85394 non-null  object \n",
      "dtypes: float64(1), int64(1), object(8)\n",
      "memory usage: 7.2+ MB\n"
     ]
    },
    {
     "name": "stderr",
     "output_type": "stream",
     "text": [
      "C:\\Users\\Positivo BGH\\AppData\\Local\\Temp\\ipykernel_4672\\177363059.py:6: SettingWithCopyWarning: \n",
      "A value is trying to be set on a copy of a slice from a DataFrame\n",
      "\n",
      "See the caveats in the documentation: https://pandas.pydata.org/pandas-docs/stable/user_guide/indexing.html#returning-a-view-versus-a-copy\n",
      "  df_filter.drop_duplicates(inplace=True)\n",
      "C:\\Users\\Positivo BGH\\AppData\\Local\\Temp\\ipykernel_4672\\177363059.py:8: FutureWarning: A value is trying to be set on a copy of a DataFrame or Series through chained assignment using an inplace method.\n",
      "The behavior will change in pandas 3.0. This inplace method will never work because the intermediate object on which we are setting values always behaves as a copy.\n",
      "\n",
      "For example, when doing 'df[col].method(value, inplace=True)', try using 'df.method({col: value}, inplace=True)' or df[col] = df[col].method(value) instead, to perform the operation inplace on the original object.\n",
      "\n",
      "\n",
      "  df_filter.loc[:, 'region_1'].fillna(\"Unknown\", inplace=True)\n"
     ]
    }
   ],
   "source": [
    "def preprocess(df):\n",
    "    df = df.copy()\n",
    "    df_filter = df.dropna(subset=['country', 'designation'])\n",
    "    imputer = SimpleImputer(strategy='median')\n",
    "    df_filter.loc[:, 'price'] = imputer.fit_transform(df_filter[['price']])\n",
    "    df_filter.drop_duplicates(inplace=True)\n",
    "    df_filter = df_filter.drop(columns=['region_2', 'taster_name', 'taster_twitter_handle'])\n",
    "    df_filter.loc[:, 'region_1'].fillna(\"Unknown\", inplace=True)\n",
    "    return df_filter\n",
    "\n",
    "data = preprocess(df)\n",
    "data.info()"
   ]
  },
  {
   "cell_type": "markdown",
   "metadata": {},
   "source": [
    "Paises y continentes"
   ]
  },
  {
   "cell_type": "code",
   "execution_count": 10,
   "metadata": {},
   "outputs": [
    {
     "data": {
      "text/plain": [
       "<Axes: xlabel='country'>"
      ]
     },
     "execution_count": 10,
     "metadata": {},
     "output_type": "execute_result"
    },
    {
     "data": {
      "image/png": "[encoded data removed]",
      "text/plain": [
       "<Figure size 640x480 with 1 Axes>"
      ]
     },
     "metadata": {},
     "output_type": "display_data"
    }
   ],
   "source": [
    "data['country'].value_counts().plot(kind='bar')"
   ]
  },
  {
   "cell_type": "code",
   "execution_count": 11,
   "metadata": {},
   "outputs": [
    {
     "data": {
      "text/html": [
       "<div>\n",
       "<style scoped>\n",
       "    .dataframe tbody tr th:only-of-type {\n",
       "        vertical-align: middle;\n",
       "    }\n",
       "\n",
       "    .dataframe tbody tr th {\n",
       "        vertical-align: top;\n",
       "    }\n",
       "\n",
       "    .dataframe thead th {\n",
       "        text-align: right;\n",
       "    }\n",
       "</style>\n",
       "<table border=\"1\" class=\"dataframe\">\n",
       "  <thead>\n",
       "    <tr style=\"text-align: right;\">\n",
       "      <th></th>\n",
       "      <th>country</th>\n",
       "      <th>description</th>\n",
       "      <th>designation</th>\n",
       "      <th>points</th>\n",
       "      <th>price</th>\n",
       "      <th>province</th>\n",
       "      <th>region_1</th>\n",
       "      <th>title</th>\n",
       "      <th>variety</th>\n",
       "      <th>winery</th>\n",
       "      <th>continent</th>\n",
       "    </tr>\n",
       "  </thead>\n",
       "  <tbody>\n",
       "    <tr>\n",
       "      <th>0</th>\n",
       "      <td>Italy</td>\n",
       "      <td>Aromas include tropical fruit, broom, brimston...</td>\n",
       "      <td>Vulkà Bianco</td>\n",
       "      <td>87</td>\n",
       "      <td>28.0</td>\n",
       "      <td>Sicily &amp; Sardinia</td>\n",
       "      <td>Etna</td>\n",
       "      <td>Nicosia 2013 Vulkà Bianco  (Etna)</td>\n",
       "      <td>White Blend</td>\n",
       "      <td>Nicosia</td>\n",
       "      <td>Europa</td>\n",
       "    </tr>\n",
       "    <tr>\n",
       "      <th>1</th>\n",
       "      <td>Portugal</td>\n",
       "      <td>This is ripe and fruity, a wine that is smooth...</td>\n",
       "      <td>Avidagos</td>\n",
       "      <td>87</td>\n",
       "      <td>15.0</td>\n",
       "      <td>Douro</td>\n",
       "      <td>Unknown</td>\n",
       "      <td>Quinta dos Avidagos 2011 Avidagos Red (Douro)</td>\n",
       "      <td>Portuguese Red</td>\n",
       "      <td>Quinta dos Avidagos</td>\n",
       "      <td>Europa</td>\n",
       "    </tr>\n",
       "    <tr>\n",
       "      <th>3</th>\n",
       "      <td>US</td>\n",
       "      <td>Pineapple rind, lemon pith and orange blossom ...</td>\n",
       "      <td>Reserve Late Harvest</td>\n",
       "      <td>87</td>\n",
       "      <td>13.0</td>\n",
       "      <td>Michigan</td>\n",
       "      <td>Lake Michigan Shore</td>\n",
       "      <td>St. Julian 2013 Reserve Late Harvest Riesling ...</td>\n",
       "      <td>Riesling</td>\n",
       "      <td>St. Julian</td>\n",
       "      <td>America del norte</td>\n",
       "    </tr>\n",
       "  </tbody>\n",
       "</table>\n",
       "</div>"
      ],
      "text/plain": [
       "    country                                        description  \\\n",
       "0     Italy  Aromas include tropical fruit, broom, brimston...   \n",
       "1  Portugal  This is ripe and fruity, a wine that is smooth...   \n",
       "3        US  Pineapple rind, lemon pith and orange blossom ...   \n",
       "\n",
       "            designation  points  price           province  \\\n",
       "0          Vulkà Bianco      87   28.0  Sicily & Sardinia   \n",
       "1              Avidagos      87   15.0              Douro   \n",
       "3  Reserve Late Harvest      87   13.0           Michigan   \n",
       "\n",
       "              region_1                                              title  \\\n",
       "0                 Etna                  Nicosia 2013 Vulkà Bianco  (Etna)   \n",
       "1              Unknown      Quinta dos Avidagos 2011 Avidagos Red (Douro)   \n",
       "3  Lake Michigan Shore  St. Julian 2013 Reserve Late Harvest Riesling ...   \n",
       "\n",
       "          variety               winery          continent  \n",
       "0     White Blend              Nicosia             Europa  \n",
       "1  Portuguese Red  Quinta dos Avidagos             Europa  \n",
       "3        Riesling           St. Julian  America del norte  "
      ]
     },
     "execution_count": 11,
     "metadata": {},
     "output_type": "execute_result"
    }
   ],
   "source": [
    "europe = ['Austria', 'Bosnia and Herzegovina','Bulgaria','Croatia','Cyprus','Czech Republic','England', 'France','Germany','Greece','Italy','Luxembourg','Portugal','Hungary', 'Macedonia', 'Moldova', 'Romania', 'Serbia', 'Slovakia', 'Slovenia', 'Spain', 'Switzerland', 'Turkey', 'Ukraine', 'Georgia']\n",
    "asia = ['Armenia', 'China','India','Israel','Lebanon' ]\n",
    "northAmerica = ['Canada','US','Mexico']\n",
    "sudAmerica = ['Argentina','Brazil','Chile','Peru','Uruguay'] \n",
    "oceania = ['Australia','New Zealand'] \n",
    "africa = ['South Africa','Morocco', 'Egypt']\n",
    "\n",
    "#Chose to set as 'Other' all the continent with a small amout of reviews \n",
    "def continentDispacher(row):\n",
    "    if row['country'] in europe:\n",
    "        val = 'Europa'\n",
    "    elif row['country'] in asia:\n",
    "        val = 'Asia'\n",
    "    elif row['country'] in northAmerica:\n",
    "        val = 'America del norte'\n",
    "    elif row['country'] in sudAmerica:\n",
    "        val = 'America del sur'\n",
    "    elif row['country'] in oceania:\n",
    "        val = 'Oceania'\n",
    "    elif row['country'] in africa:\n",
    "        val = 'Africa'\n",
    "    else:\n",
    "        val = 'Other'\n",
    "\n",
    "    return val\n",
    "\n",
    "data['continent'] = data.apply(continentDispacher,1)\n",
    "data.head(3)"
   ]
  },
  {
   "cell_type": "code",
   "execution_count": 12,
   "metadata": {},
   "outputs": [
    {
     "data": {
      "text/plain": [
       "<Axes: ylabel='count'>"
      ]
     },
     "execution_count": 12,
     "metadata": {},
     "output_type": "execute_result"
    },
    {
     "data": {
      "image/png": "[encoded data removed]",
      "text/plain": [
       "<Figure size 800x800 with 1 Axes>"
      ]
     },
     "metadata": {},
     "output_type": "display_data"
    }
   ],
   "source": [
    "data.continent.value_counts().plot(kind='pie', autopct='%1.1f%%', figsize=(8, 8))"
   ]
  },
  {
   "cell_type": "markdown",
   "metadata": {},
   "source": [
    "Descripcion"
   ]
  },
  {
   "cell_type": "code",
   "execution_count": 13,
   "metadata": {},
   "outputs": [
    {
     "name": "stderr",
     "output_type": "stream",
     "text": [
      "[nltk_data] Downloading package wordnet to C:\\Users\\Positivo\n",
      "[nltk_data]     BGH\\AppData\\Roaming\\nltk_data...\n",
      "[nltk_data]   Package wordnet is already up-to-date!\n"
     ]
    }
   ],
   "source": [
    "import nltk\n",
    "nltk.download('wordnet')\n",
    "\n",
    "from sklearn.feature_extraction.text import ENGLISH_STOP_WORDS\n",
    "import re\n",
    "from nltk.stem import WordNetLemmatizer"
   ]
  },
  {
   "cell_type": "markdown",
   "metadata": {},
   "source": [
    "Preprocesamiento del Texto Antes de realizar cualquier análisis, es importante limpiar y preparar los datos textuales:\n",
    "Eliminar caracteres especiales: Quitar puntuaciones, números y caracteres especiales que no aportan significado al análisis. Convertir a minúsculas: Para uniformizar el texto y evitar duplicidades causadas por diferencias de mayúsculas/minúsculas. Eliminar stopwords: Palabras comunes como \"el\", \"la\", \"es\", que no aportan mucho valor semántico. Lematización o stemming: Reducir las palabras a su forma raíz (por ejemplo, \"corriendo\" -> \"correr\")."
   ]
  },
  {
   "cell_type": "code",
   "execution_count": 14,
   "metadata": {},
   "outputs": [],
   "source": [
    "def preprocess_text(text):\n",
    "  lemmatizer = WordNetLemmatizer()\n",
    "\n",
    "    # Convertir a minúsculas\n",
    "  text = text.lower()\n",
    "    # Eliminar caracteres especiales\n",
    "  text = re.sub(r'[^a-z\\s]', '', text)\n",
    "    # Eliminar stopwords y lematizar\n",
    "  text = ' '.join([lemmatizer.lemmatize(word) for word in text.split() if word not in ENGLISH_STOP_WORDS])\n",
    "  return text\n",
    "\n",
    "data['description'] = data['description'].apply(preprocess_text)"
   ]
  },
  {
   "cell_type": "markdown",
   "metadata": {},
   "source": [
    "Análisis de Frecuencia de Palabras Conteo de palabras: Identificar las palabras más comunes en las descripciones. Nubes de palabras: Crear visualizaciones para mostrar las palabras que aparecen con más frecuencia."
   ]
  },
  {
   "cell_type": "code",
   "execution_count": 15,
   "metadata": {},
   "outputs": [
    {
     "data": {
      "text/plain": [
       "'from collections import Counter\\nimport matplotlib.pyplot as plt\\nfrom wordcloud import WordCloud\\n\\n# Crear un conteo de palabras\\nword_counts = Counter(\" \".join(df_filter[\\'description\\']).split())\\n\\n# Generar la nube de palabras\\nwordcloud = WordCloud(width=800, height=400, background_color=\\'white\\').generate_from_frequencies(word_counts)\\n\\n# Mostrar la nube de palabras\\nplt.figure(figsize=(10, 5))\\nplt.imshow(wordcloud, interpolation=\\'bilinear\\')\\nplt.axis(\\'off\\')\\nplt.show()'"
      ]
     },
     "execution_count": 15,
     "metadata": {},
     "output_type": "execute_result"
    }
   ],
   "source": [
    "\"\"\"from collections import Counter\n",
    "import matplotlib.pyplot as plt\n",
    "from wordcloud import WordCloud\n",
    "\n",
    "# Crear un conteo de palabras\n",
    "word_counts = Counter(\" \".join(df_filter['description']).split())\n",
    "\n",
    "# Generar la nube de palabras\n",
    "wordcloud = WordCloud(width=800, height=400, background_color='white').generate_from_frequencies(word_counts)\n",
    "\n",
    "# Mostrar la nube de palabras\n",
    "plt.figure(figsize=(10, 5))\n",
    "plt.imshow(wordcloud, interpolation='bilinear')\n",
    "plt.axis('off')\n",
    "plt.show()\"\"\""
   ]
  },
  {
   "cell_type": "markdown",
   "metadata": {},
   "source": [
    "Que pais tiene la mayor cantidad de descripciones consideradas positvas?"
   ]
  },
  {
   "cell_type": "code",
   "execution_count": 16,
   "metadata": {},
   "outputs": [
    {
     "data": {
      "text/plain": [
       "\"from sklearn.decomposition import LatentDirichletAllocation\\nfrom sklearn.feature_extraction.text import CountVectorizer\\n\\n# Convertir el texto en una matriz de palabras\\nvectorizer = CountVectorizer(max_df=0.95, min_df=2, stop_words='english')\\ntext_matrix = vectorizer.fit_transform(df_filter['description'])\\n\\n# Aplicar LDA\\nlda = LatentDirichletAllocation(n_components=5, random_state=42)\\nlda.fit(text_matrix)\""
      ]
     },
     "execution_count": 16,
     "metadata": {},
     "output_type": "execute_result"
    }
   ],
   "source": [
    "\"\"\"from sklearn.decomposition import LatentDirichletAllocation\n",
    "from sklearn.feature_extraction.text import CountVectorizer\n",
    "\n",
    "# Convertir el texto en una matriz de palabras\n",
    "vectorizer = CountVectorizer(max_df=0.95, min_df=2, stop_words='english')\n",
    "text_matrix = vectorizer.fit_transform(df_filter['description'])\n",
    "\n",
    "# Aplicar LDA\n",
    "lda = LatentDirichletAllocation(n_components=5, random_state=42)\n",
    "lda.fit(text_matrix)\"\"\""
   ]
  },
  {
   "cell_type": "code",
   "execution_count": 17,
   "metadata": {},
   "outputs": [
    {
     "data": {
      "text/plain": [
       "\"for index, topic in enumerate(lda.components_):\\n    print(f'Topic #{index}:')\\n    print([vectorizer.get_feature_names_out()[i] for i in topic.argsort()[-10:]])\""
      ]
     },
     "execution_count": 17,
     "metadata": {},
     "output_type": "execute_result"
    }
   ],
   "source": [
    "\"\"\"for index, topic in enumerate(lda.components_):\n",
    "    print(f'Topic #{index}:')\n",
    "    print([vectorizer.get_feature_names_out()[i] for i in topic.argsort()[-10:]])\"\"\""
   ]
  },
  {
   "cell_type": "code",
   "execution_count": 18,
   "metadata": {},
   "outputs": [
    {
     "data": {
      "text/plain": [
       "\"import joblib\\njoblib.dump(lda, 'lda_model.pkl')\\n\\nlda_loaded = joblib.load('lda_model.pkl')\\n\""
      ]
     },
     "execution_count": 18,
     "metadata": {},
     "output_type": "execute_result"
    }
   ],
   "source": [
    "\"\"\"import joblib\n",
    "joblib.dump(lda, 'lda_model.pkl')\n",
    "\n",
    "lda_loaded = joblib.load('lda_model.pkl')\n",
    "\"\"\"\n"
   ]
  },
  {
   "cell_type": "markdown",
   "metadata": {},
   "source": [
    "Analisis de sentimiento partiendo de la descripcion, decidi guardarlo como varuiables categoricas en vez de numericas; sentiemientos Negativos, positivos o neutros. Luego para el modelo de ML lo voy a procesar coimo variables ordinales"
   ]
  },
  {
   "cell_type": "code",
   "execution_count": 19,
   "metadata": {},
   "outputs": [],
   "source": [
    "from textblob import TextBlob\n",
    "\n",
    "def analyze_sentiment(text):\n",
    "    analysis = TextBlob(text)\n",
    "    score = analysis.sentiment.polarity\n",
    "    if score < 0:\n",
    "      return \"Negative\"\n",
    "    elif score == 0:\n",
    "      return \"Neutral\"\n",
    "    else:\n",
    "      return \"Positive\"\n",
    "\n",
    "data['sentiment'] = data['description'].apply(analyze_sentiment)\n"
   ]
  },
  {
   "cell_type": "code",
   "execution_count": 20,
   "metadata": {},
   "outputs": [
    {
     "data": {
      "text/html": [
       "<div>\n",
       "<style scoped>\n",
       "    .dataframe tbody tr th:only-of-type {\n",
       "        vertical-align: middle;\n",
       "    }\n",
       "\n",
       "    .dataframe tbody tr th {\n",
       "        vertical-align: top;\n",
       "    }\n",
       "\n",
       "    .dataframe thead th {\n",
       "        text-align: right;\n",
       "    }\n",
       "</style>\n",
       "<table border=\"1\" class=\"dataframe\">\n",
       "  <thead>\n",
       "    <tr style=\"text-align: right;\">\n",
       "      <th></th>\n",
       "      <th>country</th>\n",
       "      <th>description</th>\n",
       "      <th>designation</th>\n",
       "      <th>points</th>\n",
       "      <th>price</th>\n",
       "      <th>province</th>\n",
       "      <th>region_1</th>\n",
       "      <th>title</th>\n",
       "      <th>variety</th>\n",
       "      <th>winery</th>\n",
       "      <th>continent</th>\n",
       "      <th>sentiment</th>\n",
       "    </tr>\n",
       "  </thead>\n",
       "  <tbody>\n",
       "    <tr>\n",
       "      <th>0</th>\n",
       "      <td>Italy</td>\n",
       "      <td>aroma include tropical fruit broom brimstone d...</td>\n",
       "      <td>Vulkà Bianco</td>\n",
       "      <td>87</td>\n",
       "      <td>28.0</td>\n",
       "      <td>Sicily &amp; Sardinia</td>\n",
       "      <td>Etna</td>\n",
       "      <td>Nicosia 2013 Vulkà Bianco  (Etna)</td>\n",
       "      <td>White Blend</td>\n",
       "      <td>Nicosia</td>\n",
       "      <td>Europa</td>\n",
       "      <td>Positive</td>\n",
       "    </tr>\n",
       "    <tr>\n",
       "      <th>1</th>\n",
       "      <td>Portugal</td>\n",
       "      <td>ripe fruity wine smooth structured firm tannin...</td>\n",
       "      <td>Avidagos</td>\n",
       "      <td>87</td>\n",
       "      <td>15.0</td>\n",
       "      <td>Douro</td>\n",
       "      <td>Unknown</td>\n",
       "      <td>Quinta dos Avidagos 2011 Avidagos Red (Douro)</td>\n",
       "      <td>Portuguese Red</td>\n",
       "      <td>Quinta dos Avidagos</td>\n",
       "      <td>Europa</td>\n",
       "      <td>Positive</td>\n",
       "    </tr>\n",
       "    <tr>\n",
       "      <th>3</th>\n",
       "      <td>US</td>\n",
       "      <td>pineapple rind lemon pith orange blossom start...</td>\n",
       "      <td>Reserve Late Harvest</td>\n",
       "      <td>87</td>\n",
       "      <td>13.0</td>\n",
       "      <td>Michigan</td>\n",
       "      <td>Lake Michigan Shore</td>\n",
       "      <td>St. Julian 2013 Reserve Late Harvest Riesling ...</td>\n",
       "      <td>Riesling</td>\n",
       "      <td>St. Julian</td>\n",
       "      <td>America del norte</td>\n",
       "      <td>Negative</td>\n",
       "    </tr>\n",
       "    <tr>\n",
       "      <th>4</th>\n",
       "      <td>US</td>\n",
       "      <td>like regular bottling come rough tannic rustic...</td>\n",
       "      <td>Vintner's Reserve Wild Child Block</td>\n",
       "      <td>87</td>\n",
       "      <td>65.0</td>\n",
       "      <td>Oregon</td>\n",
       "      <td>Willamette Valley</td>\n",
       "      <td>Sweet Cheeks 2012 Vintner's Reserve Wild Child...</td>\n",
       "      <td>Pinot Noir</td>\n",
       "      <td>Sweet Cheeks</td>\n",
       "      <td>America del norte</td>\n",
       "      <td>Positive</td>\n",
       "    </tr>\n",
       "    <tr>\n",
       "      <th>5</th>\n",
       "      <td>Spain</td>\n",
       "      <td>blackberry raspberry aroma typical navarran wh...</td>\n",
       "      <td>Ars In Vitro</td>\n",
       "      <td>87</td>\n",
       "      <td>15.0</td>\n",
       "      <td>Northern Spain</td>\n",
       "      <td>Navarra</td>\n",
       "      <td>Tandem 2011 Ars In Vitro Tempranillo-Merlot (N...</td>\n",
       "      <td>Tempranillo-Merlot</td>\n",
       "      <td>Tandem</td>\n",
       "      <td>Europa</td>\n",
       "      <td>Positive</td>\n",
       "    </tr>\n",
       "  </tbody>\n",
       "</table>\n",
       "</div>"
      ],
      "text/plain": [
       "    country                                        description  \\\n",
       "0     Italy  aroma include tropical fruit broom brimstone d...   \n",
       "1  Portugal  ripe fruity wine smooth structured firm tannin...   \n",
       "3        US  pineapple rind lemon pith orange blossom start...   \n",
       "4        US  like regular bottling come rough tannic rustic...   \n",
       "5     Spain  blackberry raspberry aroma typical navarran wh...   \n",
       "\n",
       "                          designation  points  price           province  \\\n",
       "0                        Vulkà Bianco      87   28.0  Sicily & Sardinia   \n",
       "1                            Avidagos      87   15.0              Douro   \n",
       "3                Reserve Late Harvest      87   13.0           Michigan   \n",
       "4  Vintner's Reserve Wild Child Block      87   65.0             Oregon   \n",
       "5                        Ars In Vitro      87   15.0     Northern Spain   \n",
       "\n",
       "              region_1                                              title  \\\n",
       "0                 Etna                  Nicosia 2013 Vulkà Bianco  (Etna)   \n",
       "1              Unknown      Quinta dos Avidagos 2011 Avidagos Red (Douro)   \n",
       "3  Lake Michigan Shore  St. Julian 2013 Reserve Late Harvest Riesling ...   \n",
       "4    Willamette Valley  Sweet Cheeks 2012 Vintner's Reserve Wild Child...   \n",
       "5              Navarra  Tandem 2011 Ars In Vitro Tempranillo-Merlot (N...   \n",
       "\n",
       "              variety               winery          continent sentiment  \n",
       "0         White Blend              Nicosia             Europa  Positive  \n",
       "1      Portuguese Red  Quinta dos Avidagos             Europa  Positive  \n",
       "3            Riesling           St. Julian  America del norte  Negative  \n",
       "4          Pinot Noir         Sweet Cheeks  America del norte  Positive  \n",
       "5  Tempranillo-Merlot               Tandem             Europa  Positive  "
      ]
     },
     "execution_count": 20,
     "metadata": {},
     "output_type": "execute_result"
    }
   ],
   "source": [
    "data.head()"
   ]
  },
  {
   "cell_type": "markdown",
   "metadata": {},
   "source": [
    "Designation"
   ]
  },
  {
   "cell_type": "code",
   "execution_count": 21,
   "metadata": {},
   "outputs": [
    {
     "data": {
      "text/plain": [
       "designation\n",
       "Cerretalto                                         100.0\n",
       "Cristal Vintage Brut                               100.0\n",
       "Barca-Velha                                        100.0\n",
       "Vargellas Vinhas Velhas Vintage                     99.0\n",
       "Clos du Mesnil Brut Blanc de Blancs                 99.0\n",
       "Barca Velha                                         99.0\n",
       "Sorì Tildìn                                         99.0\n",
       "Cà d'Morissio Riserva                               99.0\n",
       "Nacional Vintage                                    99.0\n",
       "Cuvée Constance 500ml                               99.0\n",
       "Elevation 1147 Estate                               99.0\n",
       "Sperss                                              98.0\n",
       "Nello Riserva                                       98.0\n",
       "Zwischen den Seen Nummer 9 Trockenbeerenauslese     98.0\n",
       "The Relic                                           98.0\n",
       "Name: points, dtype: float64"
      ]
     },
     "execution_count": 21,
     "metadata": {},
     "output_type": "execute_result"
    }
   ],
   "source": [
    "data.groupby('designation')['points'].mean().sort_values(ascending=False).head(15)"
   ]
  },
  {
   "cell_type": "markdown",
   "metadata": {},
   "source": [
    "Province"
   ]
  },
  {
   "cell_type": "code",
   "execution_count": 22,
   "metadata": {},
   "outputs": [
    {
     "data": {
      "text/plain": [
       "count      406.000000\n",
       "mean       210.330049\n",
       "std       1225.703408\n",
       "min          1.000000\n",
       "25%          2.000000\n",
       "50%          8.000000\n",
       "75%         46.000000\n",
       "max      22611.000000\n",
       "Name: count, dtype: float64"
      ]
     },
     "execution_count": 22,
     "metadata": {},
     "output_type": "execute_result"
    }
   ],
   "source": [
    "count_prov = data.province.value_counts()\n",
    "count_prov.describe()"
   ]
  },
  {
   "cell_type": "code",
   "execution_count": 23,
   "metadata": {},
   "outputs": [],
   "source": [
    "def group_provinces(count_prov, threshold=8):\n",
    "    # Crear un nuevo DataFrame con la provincia como índice y el conteo como valor\n",
    "    df = pd.DataFrame(count_prov, columns=['count'])\n",
    "\n",
    "    # Identificar provincias que tienen menos de 'threshold' apariciones\n",
    "    df['province'] = df.index\n",
    "    df['group'] = df['province'].apply(lambda x: 'others' if df.loc[x, 'count'] < threshold else x)\n",
    "\n",
    "    # Agrupar por el nuevo nombre de grupo y sumar los conteos\n",
    "    grouped_df = df.groupby('group').sum().reset_index()\n",
    "    \n",
    "    # Reemplazar el nombre del grupo 'others' en el índice del DataFrame original\n",
    "    result_df = grouped_df[['group', 'count']].groupby('group').sum().reset_index()\n",
    "\n",
    "    return result_df\n",
    "\n",
    "subset_prov = group_provinces(count_prov)"
   ]
  },
  {
   "cell_type": "code",
   "execution_count": 24,
   "metadata": {},
   "outputs": [
    {
     "data": {
      "text/html": [
       "<div>\n",
       "<style scoped>\n",
       "    .dataframe tbody tr th:only-of-type {\n",
       "        vertical-align: middle;\n",
       "    }\n",
       "\n",
       "    .dataframe tbody tr th {\n",
       "        vertical-align: top;\n",
       "    }\n",
       "\n",
       "    .dataframe thead th {\n",
       "        text-align: right;\n",
       "    }\n",
       "</style>\n",
       "<table border=\"1\" class=\"dataframe\">\n",
       "  <thead>\n",
       "    <tr style=\"text-align: right;\">\n",
       "      <th></th>\n",
       "      <th>count</th>\n",
       "    </tr>\n",
       "    <tr>\n",
       "      <th>group</th>\n",
       "      <th></th>\n",
       "    </tr>\n",
       "  </thead>\n",
       "  <tbody>\n",
       "    <tr>\n",
       "      <th>Aconcagua Costa</th>\n",
       "      <td>14</td>\n",
       "    </tr>\n",
       "    <tr>\n",
       "      <th>Aconcagua Valley</th>\n",
       "      <td>80</td>\n",
       "    </tr>\n",
       "    <tr>\n",
       "      <th>Aegean</th>\n",
       "      <td>18</td>\n",
       "    </tr>\n",
       "    <tr>\n",
       "      <th>Alentejano</th>\n",
       "      <td>757</td>\n",
       "    </tr>\n",
       "    <tr>\n",
       "      <th>Alentejo</th>\n",
       "      <td>160</td>\n",
       "    </tr>\n",
       "    <tr>\n",
       "      <th>...</th>\n",
       "      <td>...</td>\n",
       "    </tr>\n",
       "    <tr>\n",
       "      <th>Wiener Gemischter Satz</th>\n",
       "      <td>12</td>\n",
       "    </tr>\n",
       "    <tr>\n",
       "      <th>Württemberg</th>\n",
       "      <td>20</td>\n",
       "    </tr>\n",
       "    <tr>\n",
       "      <th>others</th>\n",
       "      <td>572</td>\n",
       "    </tr>\n",
       "    <tr>\n",
       "      <th>Österreichischer Sekt</th>\n",
       "      <td>60</td>\n",
       "    </tr>\n",
       "    <tr>\n",
       "      <th>Štajerska</th>\n",
       "      <td>8</td>\n",
       "    </tr>\n",
       "  </tbody>\n",
       "</table>\n",
       "<p>212 rows × 1 columns</p>\n",
       "</div>"
      ],
      "text/plain": [
       "                        count\n",
       "group                        \n",
       "Aconcagua Costa            14\n",
       "Aconcagua Valley           80\n",
       "Aegean                     18\n",
       "Alentejano                757\n",
       "Alentejo                  160\n",
       "...                       ...\n",
       "Wiener Gemischter Satz     12\n",
       "Württemberg                20\n",
       "others                    572\n",
       "Österreichischer Sekt      60\n",
       "Štajerska                   8\n",
       "\n",
       "[212 rows x 1 columns]"
      ]
     },
     "execution_count": 24,
     "metadata": {},
     "output_type": "execute_result"
    }
   ],
   "source": [
    "subset_prov.set_index(subset_prov.group, inplace=True)\n",
    "subset_prov.drop('group', axis = 1, inplace=True)\n",
    "subset_prov"
   ]
  },
  {
   "cell_type": "code",
   "execution_count": 25,
   "metadata": {},
   "outputs": [
    {
     "data": {
      "text/plain": [
       "<Axes: ylabel='country'>"
      ]
     },
     "execution_count": 25,
     "metadata": {},
     "output_type": "execute_result"
    },
    {
     "data": {
      "image/png": "[encoded data removed]",
      "text/plain": [
       "<Figure size 640x480 with 1 Axes>"
      ]
     },
     "metadata": {},
     "output_type": "display_data"
    }
   ],
   "source": [
    "more_prov = data[data['province'].isin(subset_prov.index)].filter(['country', 'province'])\n",
    "more_prov.groupby('country')['province'].count().sort_values(ascending=False).head(15).plot(kind='barh')"
   ]
  },
  {
   "cell_type": "markdown",
   "metadata": {},
   "source": [
    "Provincias mas productoras de vino"
   ]
  },
  {
   "cell_type": "code",
   "execution_count": 26,
   "metadata": {},
   "outputs": [
    {
     "data": {
      "image/png": "[encoded data removed]",
      "text/plain": [
       "<Figure size 1000x800 with 1 Axes>"
      ]
     },
     "metadata": {},
     "output_type": "display_data"
    }
   ],
   "source": [
    "top_15 = subset_prov.sort_values(by='count', ascending=False).head(15)\n",
    "# Crear el gráfico circular\n",
    "top_15['count'].plot(kind='pie', labels=top_15.index, autopct='%1.1f%%', figsize=(10, 8), startangle=90)\n",
    "\n",
    "# Personalizar el gráfico\n",
    "plt.title('Top 15 Provincias por Conteo')\n",
    "plt.ylabel('')  # Eliminar la etiqueta del eje y\n",
    "plt.show()"
   ]
  },
  {
   "cell_type": "code",
   "execution_count": 27,
   "metadata": {},
   "outputs": [
    {
     "data": {
      "text/html": [
       "<div>\n",
       "<style scoped>\n",
       "    .dataframe tbody tr th:only-of-type {\n",
       "        vertical-align: middle;\n",
       "    }\n",
       "\n",
       "    .dataframe tbody tr th {\n",
       "        vertical-align: top;\n",
       "    }\n",
       "\n",
       "    .dataframe thead th {\n",
       "        text-align: right;\n",
       "    }\n",
       "</style>\n",
       "<table border=\"1\" class=\"dataframe\">\n",
       "  <thead>\n",
       "    <tr style=\"text-align: right;\">\n",
       "      <th></th>\n",
       "      <th>country</th>\n",
       "      <th>province</th>\n",
       "    </tr>\n",
       "  </thead>\n",
       "  <tbody>\n",
       "    <tr>\n",
       "      <th>0</th>\n",
       "      <td>Italy</td>\n",
       "      <td>Sicily &amp; Sardinia</td>\n",
       "    </tr>\n",
       "    <tr>\n",
       "      <th>4</th>\n",
       "      <td>US</td>\n",
       "      <td>Oregon</td>\n",
       "    </tr>\n",
       "    <tr>\n",
       "      <th>5</th>\n",
       "      <td>Spain</td>\n",
       "      <td>Northern Spain</td>\n",
       "    </tr>\n",
       "    <tr>\n",
       "      <th>6</th>\n",
       "      <td>Italy</td>\n",
       "      <td>Sicily &amp; Sardinia</td>\n",
       "    </tr>\n",
       "    <tr>\n",
       "      <th>9</th>\n",
       "      <td>France</td>\n",
       "      <td>Alsace</td>\n",
       "    </tr>\n",
       "    <tr>\n",
       "      <th>...</th>\n",
       "      <td>...</td>\n",
       "      <td>...</td>\n",
       "    </tr>\n",
       "    <tr>\n",
       "      <th>129962</th>\n",
       "      <td>Italy</td>\n",
       "      <td>Sicily &amp; Sardinia</td>\n",
       "    </tr>\n",
       "    <tr>\n",
       "      <th>129964</th>\n",
       "      <td>France</td>\n",
       "      <td>Alsace</td>\n",
       "    </tr>\n",
       "    <tr>\n",
       "      <th>129965</th>\n",
       "      <td>France</td>\n",
       "      <td>Alsace</td>\n",
       "    </tr>\n",
       "    <tr>\n",
       "      <th>129968</th>\n",
       "      <td>France</td>\n",
       "      <td>Alsace</td>\n",
       "    </tr>\n",
       "    <tr>\n",
       "      <th>129970</th>\n",
       "      <td>France</td>\n",
       "      <td>Alsace</td>\n",
       "    </tr>\n",
       "  </tbody>\n",
       "</table>\n",
       "<p>56930 rows × 2 columns</p>\n",
       "</div>"
      ],
      "text/plain": [
       "       country           province\n",
       "0        Italy  Sicily & Sardinia\n",
       "4           US             Oregon\n",
       "5        Spain     Northern Spain\n",
       "6        Italy  Sicily & Sardinia\n",
       "9       France             Alsace\n",
       "...        ...                ...\n",
       "129962   Italy  Sicily & Sardinia\n",
       "129964  France             Alsace\n",
       "129965  France             Alsace\n",
       "129968  France             Alsace\n",
       "129970  France             Alsace\n",
       "\n",
       "[56930 rows x 2 columns]"
      ]
     },
     "execution_count": 27,
     "metadata": {},
     "output_type": "execute_result"
    }
   ],
   "source": [
    "filtered_data = data[data['province'].isin(top_15.index)].filter(['country', 'province'])\n",
    "filtered_data"
   ]
  },
  {
   "cell_type": "markdown",
   "metadata": {},
   "source": [
    "Paises de las provincias mas productoras"
   ]
  },
  {
   "cell_type": "code",
   "execution_count": 28,
   "metadata": {},
   "outputs": [
    {
     "data": {
      "text/plain": [
       "<Axes: ylabel='province'>"
      ]
     },
     "execution_count": 28,
     "metadata": {},
     "output_type": "execute_result"
    },
    {
     "data": {
      "image/png": "[encoded data removed]",
      "text/plain": [
       "<Figure size 640x480 with 1 Axes>"
      ]
     },
     "metadata": {},
     "output_type": "display_data"
    }
   ],
   "source": [
    "filtered_data.groupby('country')['province'].count().plot(kind='pie')"
   ]
  },
  {
   "cell_type": "markdown",
   "metadata": {},
   "source": [
    "Points"
   ]
  },
  {
   "cell_type": "markdown",
   "metadata": {},
   "source": [
    "Paises con mas puntos"
   ]
  },
  {
   "cell_type": "code",
   "execution_count": 29,
   "metadata": {},
   "outputs": [
    {
     "data": {
      "text/plain": [
       "country\n",
       "England         91.75\n",
       "India           91.50\n",
       "Austria         90.40\n",
       "Germany         90.07\n",
       "Hungary         89.48\n",
       "Canada          89.33\n",
       "France          89.17\n",
       "US              89.01\n",
       "China           89.00\n",
       "Australia       88.97\n",
       "New Zealand     88.90\n",
       "Luxembourg      88.80\n",
       "Italy           88.79\n",
       "Morocco         88.69\n",
       "South Africa    88.65\n",
       "Name: points, dtype: float64"
      ]
     },
     "execution_count": 29,
     "metadata": {},
     "output_type": "execute_result"
    }
   ],
   "source": [
    "data.groupby('country')['points'].mean().sort_values(ascending=False).head(15).round(2)"
   ]
  },
  {
   "cell_type": "markdown",
   "metadata": {},
   "source": [
    "provincias con mas puntos"
   ]
  },
  {
   "cell_type": "code",
   "execution_count": 30,
   "metadata": {},
   "outputs": [
    {
     "data": {
      "text/html": [
       "<div>\n",
       "<style scoped>\n",
       "    .dataframe tbody tr th:only-of-type {\n",
       "        vertical-align: middle;\n",
       "    }\n",
       "\n",
       "    .dataframe tbody tr th {\n",
       "        vertical-align: top;\n",
       "    }\n",
       "\n",
       "    .dataframe thead th {\n",
       "        text-align: right;\n",
       "    }\n",
       "</style>\n",
       "<table border=\"1\" class=\"dataframe\">\n",
       "  <thead>\n",
       "    <tr style=\"text-align: right;\">\n",
       "      <th></th>\n",
       "      <th>points</th>\n",
       "    </tr>\n",
       "    <tr>\n",
       "      <th>province</th>\n",
       "      <th></th>\n",
       "    </tr>\n",
       "  </thead>\n",
       "  <tbody>\n",
       "    <tr>\n",
       "      <th>Südburgenland</th>\n",
       "      <td>94.00</td>\n",
       "    </tr>\n",
       "    <tr>\n",
       "      <th>Cape South Coast</th>\n",
       "      <td>93.00</td>\n",
       "    </tr>\n",
       "    <tr>\n",
       "      <th>Leithaberg</th>\n",
       "      <td>92.33</td>\n",
       "    </tr>\n",
       "    <tr>\n",
       "      <th>Cape Peninsula</th>\n",
       "      <td>92.00</td>\n",
       "    </tr>\n",
       "    <tr>\n",
       "      <th>Mittelrhein</th>\n",
       "      <td>92.00</td>\n",
       "    </tr>\n",
       "    <tr>\n",
       "      <th>Madeira</th>\n",
       "      <td>92.00</td>\n",
       "    </tr>\n",
       "    <tr>\n",
       "      <th>Wachau</th>\n",
       "      <td>91.76</td>\n",
       "    </tr>\n",
       "    <tr>\n",
       "      <th>England</th>\n",
       "      <td>91.75</td>\n",
       "    </tr>\n",
       "    <tr>\n",
       "      <th>Kamptal</th>\n",
       "      <td>91.55</td>\n",
       "    </tr>\n",
       "    <tr>\n",
       "      <th>Nashik</th>\n",
       "      <td>91.50</td>\n",
       "    </tr>\n",
       "    <tr>\n",
       "      <th>Santa Cruz</th>\n",
       "      <td>91.50</td>\n",
       "    </tr>\n",
       "    <tr>\n",
       "      <th>Traisental</th>\n",
       "      <td>91.33</td>\n",
       "    </tr>\n",
       "    <tr>\n",
       "      <th>Puente Alto</th>\n",
       "      <td>91.27</td>\n",
       "    </tr>\n",
       "    <tr>\n",
       "      <th>Wiener Gemischter Satz</th>\n",
       "      <td>91.25</td>\n",
       "    </tr>\n",
       "    <tr>\n",
       "      <th>Hemel en Aarde</th>\n",
       "      <td>91.17</td>\n",
       "    </tr>\n",
       "  </tbody>\n",
       "</table>\n",
       "</div>"
      ],
      "text/plain": [
       "                        points\n",
       "province                      \n",
       "Südburgenland            94.00\n",
       "Cape South Coast         93.00\n",
       "Leithaberg               92.33\n",
       "Cape Peninsula           92.00\n",
       "Mittelrhein              92.00\n",
       "Madeira                  92.00\n",
       "Wachau                   91.76\n",
       "England                  91.75\n",
       "Kamptal                  91.55\n",
       "Nashik                   91.50\n",
       "Santa Cruz               91.50\n",
       "Traisental               91.33\n",
       "Puente Alto              91.27\n",
       "Wiener Gemischter Satz   91.25\n",
       "Hemel en Aarde           91.17"
      ]
     },
     "execution_count": 30,
     "metadata": {},
     "output_type": "execute_result"
    }
   ],
   "source": [
    "province_points = (data.groupby('province')['points'].mean().sort_values(ascending=False).round(2)).to_frame()\n",
    "province_points.head(15)"
   ]
  },
  {
   "cell_type": "code",
   "execution_count": 31,
   "metadata": {},
   "outputs": [],
   "source": [
    "province_points = data.groupby('province')['points'].mean().sort_values(ascending=False).round(2).to_frame()\n",
    "\n",
    "# Seleccionar las 15 provincias principales\n",
    "top_15_provinces = province_points.head(15).index\n",
    "\n",
    "# Filtrar el DataFrame original para incluir solo las provincias top 15\n",
    "prov_country_points = data[data['province'].isin(top_15_provinces)]\n",
    "\n",
    "# Seleccionar las columnas relevantes\n",
    "prov_country_points = prov_country_points[['country', 'province', 'points']]"
   ]
  },
  {
   "cell_type": "code",
   "execution_count": 32,
   "metadata": {},
   "outputs": [
    {
     "data": {
      "text/plain": [
       "country\n",
       "Austria         91.641201\n",
       "Chile           91.352941\n",
       "England         91.746032\n",
       "Germany         92.000000\n",
       "India           91.500000\n",
       "Portugal        92.000000\n",
       "South Africa    91.500000\n",
       "Name: points, dtype: float64"
      ]
     },
     "execution_count": 32,
     "metadata": {},
     "output_type": "execute_result"
    }
   ],
   "source": [
    "prov_country_points.groupby('country')['points'].mean()"
   ]
  },
  {
   "cell_type": "code",
   "execution_count": 33,
   "metadata": {},
   "outputs": [
    {
     "data": {
      "text/plain": [
       "country\n",
       "England                   91.746032\n",
       "India                     91.500000\n",
       "Austria                   90.398916\n",
       "Germany                   90.065512\n",
       "Hungary                   89.477477\n",
       "Canada                    89.329114\n",
       "France                    89.171149\n",
       "US                        89.006673\n",
       "China                     89.000000\n",
       "Australia                 88.970760\n",
       "New Zealand               88.901454\n",
       "Luxembourg                88.800000\n",
       "Italy                     88.788248\n",
       "Morocco                   88.692308\n",
       "South Africa              88.651376\n",
       "Turkey                    88.553571\n",
       "Israel                    88.471178\n",
       "Portugal                  88.320042\n",
       "Slovenia                  88.235294\n",
       "Czech Republic            88.000000\n",
       "Serbia                    88.000000\n",
       "Bulgaria                  87.784091\n",
       "Lebanon                   87.758621\n",
       "Switzerland               87.666667\n",
       "Armenia                   87.500000\n",
       "Spain                     87.419546\n",
       "Georgia                   87.400000\n",
       "Moldova                   87.326531\n",
       "Greece                    87.152027\n",
       "Cyprus                    87.125000\n",
       "Croatia                   87.085106\n",
       "Argentina                 87.076123\n",
       "Macedonia                 86.750000\n",
       "Uruguay                   86.705882\n",
       "Chile                     86.618417\n",
       "Romania                   86.291667\n",
       "Mexico                    85.725490\n",
       "Bosnia and Herzegovina    85.000000\n",
       "Brazil                    84.562500\n",
       "Ukraine                   84.083333\n",
       "Egypt                     84.000000\n",
       "Peru                      83.562500\n",
       "Name: points, dtype: float64"
      ]
     },
     "execution_count": 33,
     "metadata": {},
     "output_type": "execute_result"
    }
   ],
   "source": [
    "data.groupby('country')['points'].mean().sort_values(ascending=False)"
   ]
  },
  {
   "cell_type": "markdown",
   "metadata": {},
   "source": [
    "price"
   ]
  },
  {
   "cell_type": "markdown",
   "metadata": {},
   "source": [
    "Pais con los precios mas caros"
   ]
  },
  {
   "cell_type": "code",
   "execution_count": 34,
   "metadata": {},
   "outputs": [
    {
     "data": {
      "text/plain": [
       "<Axes: ylabel='country'>"
      ]
     },
     "execution_count": 34,
     "metadata": {},
     "output_type": "execute_result"
    },
    {
     "data": {
      "image/png": "[encoded data removed]",
      "text/plain": [
       "<Figure size 640x480 with 1 Axes>"
      ]
     },
     "metadata": {},
     "output_type": "display_data"
    }
   ],
   "source": [
    "data.groupby('country')['price'].max().sort_values(ascending=False).head(15).plot(kind='barh')"
   ]
  },
  {
   "cell_type": "markdown",
   "metadata": {},
   "source": [
    "Promedio de precios"
   ]
  },
  {
   "cell_type": "code",
   "execution_count": 35,
   "metadata": {},
   "outputs": [
    {
     "data": {
      "text/plain": [
       "<Axes: ylabel='country'>"
      ]
     },
     "execution_count": 35,
     "metadata": {},
     "output_type": "execute_result"
    },
    {
     "data": {
      "image/png": "[encoded data removed]",
      "text/plain": [
       "<Figure size 640x480 with 1 Axes>"
      ]
     },
     "metadata": {},
     "output_type": "display_data"
    }
   ],
   "source": [
    "data.groupby('country')['price'].mean().sort_values(ascending=False).head(15).plot(kind='barh')"
   ]
  },
  {
   "cell_type": "markdown",
   "metadata": {},
   "source": [
    "precios mas baratos"
   ]
  },
  {
   "cell_type": "code",
   "execution_count": 36,
   "metadata": {},
   "outputs": [
    {
     "data": {
      "text/plain": [
       "<Axes: ylabel='country'>"
      ]
     },
     "execution_count": 36,
     "metadata": {},
     "output_type": "execute_result"
    },
    {
     "data": {
      "image/png": "[encoded data removed]",
      "text/plain": [
       "<Figure size 640x480 with 1 Axes>"
      ]
     },
     "metadata": {},
     "output_type": "display_data"
    }
   ],
   "source": [
    "data.groupby('country')['price'].min().sort_values(ascending=True).head(15).plot(kind='barh')"
   ]
  },
  {
   "cell_type": "markdown",
   "metadata": {},
   "source": [
    "Antiguedad"
   ]
  },
  {
   "cell_type": "code",
   "execution_count": 37,
   "metadata": {},
   "outputs": [
    {
     "data": {
      "text/html": [
       "<div>\n",
       "<style scoped>\n",
       "    .dataframe tbody tr th:only-of-type {\n",
       "        vertical-align: middle;\n",
       "    }\n",
       "\n",
       "    .dataframe tbody tr th {\n",
       "        vertical-align: top;\n",
       "    }\n",
       "\n",
       "    .dataframe thead th {\n",
       "        text-align: right;\n",
       "    }\n",
       "</style>\n",
       "<table border=\"1\" class=\"dataframe\">\n",
       "  <thead>\n",
       "    <tr style=\"text-align: right;\">\n",
       "      <th></th>\n",
       "      <th>country</th>\n",
       "      <th>description</th>\n",
       "      <th>designation</th>\n",
       "      <th>points</th>\n",
       "      <th>price</th>\n",
       "      <th>province</th>\n",
       "      <th>region_1</th>\n",
       "      <th>title</th>\n",
       "      <th>variety</th>\n",
       "      <th>winery</th>\n",
       "      <th>continent</th>\n",
       "      <th>sentiment</th>\n",
       "      <th>anio</th>\n",
       "    </tr>\n",
       "  </thead>\n",
       "  <tbody>\n",
       "    <tr>\n",
       "      <th>0</th>\n",
       "      <td>Italy</td>\n",
       "      <td>aroma include tropical fruit broom brimstone d...</td>\n",
       "      <td>Vulkà Bianco</td>\n",
       "      <td>87</td>\n",
       "      <td>28.0</td>\n",
       "      <td>Sicily &amp; Sardinia</td>\n",
       "      <td>Etna</td>\n",
       "      <td>Nicosia 2013 Vulkà Bianco  (Etna)</td>\n",
       "      <td>White Blend</td>\n",
       "      <td>Nicosia</td>\n",
       "      <td>Europa</td>\n",
       "      <td>Positive</td>\n",
       "      <td>2013</td>\n",
       "    </tr>\n",
       "    <tr>\n",
       "      <th>1</th>\n",
       "      <td>Portugal</td>\n",
       "      <td>ripe fruity wine smooth structured firm tannin...</td>\n",
       "      <td>Avidagos</td>\n",
       "      <td>87</td>\n",
       "      <td>15.0</td>\n",
       "      <td>Douro</td>\n",
       "      <td>Unknown</td>\n",
       "      <td>Quinta dos Avidagos 2011 Avidagos Red (Douro)</td>\n",
       "      <td>Portuguese Red</td>\n",
       "      <td>Quinta dos Avidagos</td>\n",
       "      <td>Europa</td>\n",
       "      <td>Positive</td>\n",
       "      <td>2011</td>\n",
       "    </tr>\n",
       "    <tr>\n",
       "      <th>3</th>\n",
       "      <td>US</td>\n",
       "      <td>pineapple rind lemon pith orange blossom start...</td>\n",
       "      <td>Reserve Late Harvest</td>\n",
       "      <td>87</td>\n",
       "      <td>13.0</td>\n",
       "      <td>Michigan</td>\n",
       "      <td>Lake Michigan Shore</td>\n",
       "      <td>St. Julian 2013 Reserve Late Harvest Riesling ...</td>\n",
       "      <td>Riesling</td>\n",
       "      <td>St. Julian</td>\n",
       "      <td>America del norte</td>\n",
       "      <td>Negative</td>\n",
       "      <td>2013</td>\n",
       "    </tr>\n",
       "    <tr>\n",
       "      <th>4</th>\n",
       "      <td>US</td>\n",
       "      <td>like regular bottling come rough tannic rustic...</td>\n",
       "      <td>Vintner's Reserve Wild Child Block</td>\n",
       "      <td>87</td>\n",
       "      <td>65.0</td>\n",
       "      <td>Oregon</td>\n",
       "      <td>Willamette Valley</td>\n",
       "      <td>Sweet Cheeks 2012 Vintner's Reserve Wild Child...</td>\n",
       "      <td>Pinot Noir</td>\n",
       "      <td>Sweet Cheeks</td>\n",
       "      <td>America del norte</td>\n",
       "      <td>Positive</td>\n",
       "      <td>2012</td>\n",
       "    </tr>\n",
       "    <tr>\n",
       "      <th>5</th>\n",
       "      <td>Spain</td>\n",
       "      <td>blackberry raspberry aroma typical navarran wh...</td>\n",
       "      <td>Ars In Vitro</td>\n",
       "      <td>87</td>\n",
       "      <td>15.0</td>\n",
       "      <td>Northern Spain</td>\n",
       "      <td>Navarra</td>\n",
       "      <td>Tandem 2011 Ars In Vitro Tempranillo-Merlot (N...</td>\n",
       "      <td>Tempranillo-Merlot</td>\n",
       "      <td>Tandem</td>\n",
       "      <td>Europa</td>\n",
       "      <td>Positive</td>\n",
       "      <td>2011</td>\n",
       "    </tr>\n",
       "    <tr>\n",
       "      <th>...</th>\n",
       "      <td>...</td>\n",
       "      <td>...</td>\n",
       "      <td>...</td>\n",
       "      <td>...</td>\n",
       "      <td>...</td>\n",
       "      <td>...</td>\n",
       "      <td>...</td>\n",
       "      <td>...</td>\n",
       "      <td>...</td>\n",
       "      <td>...</td>\n",
       "      <td>...</td>\n",
       "      <td>...</td>\n",
       "      <td>...</td>\n",
       "    </tr>\n",
       "    <tr>\n",
       "      <th>129964</th>\n",
       "      <td>France</td>\n",
       "      <td>initially quite muted wine slowly develops imp...</td>\n",
       "      <td>Domaine Saint-Rémy Herrenweg</td>\n",
       "      <td>90</td>\n",
       "      <td>28.0</td>\n",
       "      <td>Alsace</td>\n",
       "      <td>Alsace</td>\n",
       "      <td>Domaine Ehrhart 2013 Domaine Saint-Rémy Herren...</td>\n",
       "      <td>Gewürztraminer</td>\n",
       "      <td>Domaine Ehrhart</td>\n",
       "      <td>Europa</td>\n",
       "      <td>Positive</td>\n",
       "      <td>2013</td>\n",
       "    </tr>\n",
       "    <tr>\n",
       "      <th>129965</th>\n",
       "      <td>France</td>\n",
       "      <td>rich beautiful dry wine offer considerable fre...</td>\n",
       "      <td>Seppi Landmann Vallée Noble</td>\n",
       "      <td>90</td>\n",
       "      <td>28.0</td>\n",
       "      <td>Alsace</td>\n",
       "      <td>Alsace</td>\n",
       "      <td>Domaine Rieflé-Landmann 2013 Seppi Landmann Va...</td>\n",
       "      <td>Pinot Gris</td>\n",
       "      <td>Domaine Rieflé-Landmann</td>\n",
       "      <td>Europa</td>\n",
       "      <td>Positive</td>\n",
       "      <td>2013</td>\n",
       "    </tr>\n",
       "    <tr>\n",
       "      <th>129966</th>\n",
       "      <td>Germany</td>\n",
       "      <td>note honeysuckle cantaloupe sweeten deliciousl...</td>\n",
       "      <td>Brauneberger Juffer-Sonnenuhr Spätlese</td>\n",
       "      <td>90</td>\n",
       "      <td>28.0</td>\n",
       "      <td>Mosel</td>\n",
       "      <td>Unknown</td>\n",
       "      <td>Dr. H. Thanisch (Erben Müller-Burggraef) 2013 ...</td>\n",
       "      <td>Riesling</td>\n",
       "      <td>Dr. H. Thanisch (Erben Müller-Burggraef)</td>\n",
       "      <td>Europa</td>\n",
       "      <td>Positive</td>\n",
       "      <td>2013</td>\n",
       "    </tr>\n",
       "    <tr>\n",
       "      <th>129968</th>\n",
       "      <td>France</td>\n",
       "      <td>welldrained gravel soil give wine crisp dry ch...</td>\n",
       "      <td>Kritt</td>\n",
       "      <td>90</td>\n",
       "      <td>30.0</td>\n",
       "      <td>Alsace</td>\n",
       "      <td>Alsace</td>\n",
       "      <td>Domaine Gresser 2013 Kritt Gewurztraminer (Als...</td>\n",
       "      <td>Gewürztraminer</td>\n",
       "      <td>Domaine Gresser</td>\n",
       "      <td>Europa</td>\n",
       "      <td>Positive</td>\n",
       "      <td>2013</td>\n",
       "    </tr>\n",
       "    <tr>\n",
       "      <th>129970</th>\n",
       "      <td>France</td>\n",
       "      <td>big rich offdry powered intense spiciness roun...</td>\n",
       "      <td>Lieu-dit Harth Cuvée Caroline</td>\n",
       "      <td>90</td>\n",
       "      <td>21.0</td>\n",
       "      <td>Alsace</td>\n",
       "      <td>Alsace</td>\n",
       "      <td>Domaine Schoffit 2012 Lieu-dit Harth Cuvée Car...</td>\n",
       "      <td>Gewürztraminer</td>\n",
       "      <td>Domaine Schoffit</td>\n",
       "      <td>Europa</td>\n",
       "      <td>Positive</td>\n",
       "      <td>2012</td>\n",
       "    </tr>\n",
       "  </tbody>\n",
       "</table>\n",
       "<p>85394 rows × 13 columns</p>\n",
       "</div>"
      ],
      "text/plain": [
       "         country                                        description  \\\n",
       "0          Italy  aroma include tropical fruit broom brimstone d...   \n",
       "1       Portugal  ripe fruity wine smooth structured firm tannin...   \n",
       "3             US  pineapple rind lemon pith orange blossom start...   \n",
       "4             US  like regular bottling come rough tannic rustic...   \n",
       "5          Spain  blackberry raspberry aroma typical navarran wh...   \n",
       "...          ...                                                ...   \n",
       "129964    France  initially quite muted wine slowly develops imp...   \n",
       "129965    France  rich beautiful dry wine offer considerable fre...   \n",
       "129966   Germany  note honeysuckle cantaloupe sweeten deliciousl...   \n",
       "129968    France  welldrained gravel soil give wine crisp dry ch...   \n",
       "129970    France  big rich offdry powered intense spiciness roun...   \n",
       "\n",
       "                                   designation  points  price  \\\n",
       "0                                 Vulkà Bianco      87   28.0   \n",
       "1                                     Avidagos      87   15.0   \n",
       "3                         Reserve Late Harvest      87   13.0   \n",
       "4           Vintner's Reserve Wild Child Block      87   65.0   \n",
       "5                                 Ars In Vitro      87   15.0   \n",
       "...                                        ...     ...    ...   \n",
       "129964            Domaine Saint-Rémy Herrenweg      90   28.0   \n",
       "129965             Seppi Landmann Vallée Noble      90   28.0   \n",
       "129966  Brauneberger Juffer-Sonnenuhr Spätlese      90   28.0   \n",
       "129968                                   Kritt      90   30.0   \n",
       "129970           Lieu-dit Harth Cuvée Caroline      90   21.0   \n",
       "\n",
       "                 province             region_1  \\\n",
       "0       Sicily & Sardinia                 Etna   \n",
       "1                   Douro              Unknown   \n",
       "3                Michigan  Lake Michigan Shore   \n",
       "4                  Oregon    Willamette Valley   \n",
       "5          Northern Spain              Navarra   \n",
       "...                   ...                  ...   \n",
       "129964             Alsace               Alsace   \n",
       "129965             Alsace               Alsace   \n",
       "129966              Mosel              Unknown   \n",
       "129968             Alsace               Alsace   \n",
       "129970             Alsace               Alsace   \n",
       "\n",
       "                                                    title             variety  \\\n",
       "0                       Nicosia 2013 Vulkà Bianco  (Etna)         White Blend   \n",
       "1           Quinta dos Avidagos 2011 Avidagos Red (Douro)      Portuguese Red   \n",
       "3       St. Julian 2013 Reserve Late Harvest Riesling ...            Riesling   \n",
       "4       Sweet Cheeks 2012 Vintner's Reserve Wild Child...          Pinot Noir   \n",
       "5       Tandem 2011 Ars In Vitro Tempranillo-Merlot (N...  Tempranillo-Merlot   \n",
       "...                                                   ...                 ...   \n",
       "129964  Domaine Ehrhart 2013 Domaine Saint-Rémy Herren...      Gewürztraminer   \n",
       "129965  Domaine Rieflé-Landmann 2013 Seppi Landmann Va...          Pinot Gris   \n",
       "129966  Dr. H. Thanisch (Erben Müller-Burggraef) 2013 ...            Riesling   \n",
       "129968  Domaine Gresser 2013 Kritt Gewurztraminer (Als...      Gewürztraminer   \n",
       "129970  Domaine Schoffit 2012 Lieu-dit Harth Cuvée Car...      Gewürztraminer   \n",
       "\n",
       "                                          winery          continent sentiment  \\\n",
       "0                                        Nicosia             Europa  Positive   \n",
       "1                            Quinta dos Avidagos             Europa  Positive   \n",
       "3                                     St. Julian  America del norte  Negative   \n",
       "4                                   Sweet Cheeks  America del norte  Positive   \n",
       "5                                         Tandem             Europa  Positive   \n",
       "...                                          ...                ...       ...   \n",
       "129964                           Domaine Ehrhart             Europa  Positive   \n",
       "129965                   Domaine Rieflé-Landmann             Europa  Positive   \n",
       "129966  Dr. H. Thanisch (Erben Müller-Burggraef)             Europa  Positive   \n",
       "129968                           Domaine Gresser             Europa  Positive   \n",
       "129970                          Domaine Schoffit             Europa  Positive   \n",
       "\n",
       "        anio  \n",
       "0       2013  \n",
       "1       2011  \n",
       "3       2013  \n",
       "4       2012  \n",
       "5       2011  \n",
       "...      ...  \n",
       "129964  2013  \n",
       "129965  2013  \n",
       "129966  2013  \n",
       "129968  2013  \n",
       "129970  2012  \n",
       "\n",
       "[85394 rows x 13 columns]"
      ]
     },
     "execution_count": 37,
     "metadata": {},
     "output_type": "execute_result"
    }
   ],
   "source": [
    "def extraer_anio(texto):\n",
    "    # Buscar años en formato de cuatro dígitos (19xx o 20xx)\n",
    "    match = re.search(r'\\b(19|20)\\d{2}\\b', texto)\n",
    "    if match:\n",
    "        return match.group()\n",
    "    \n",
    "    # Buscar años en formato de \"X Años\" o \"X Years Old\"\n",
    "    match = re.search(r'(\\d+)\\s*(Años|Years\\s*Old)', texto, re.IGNORECASE)\n",
    "    if match:\n",
    "        return str(int(2024) - int(match.group(1)))  # Ajusta el año actual según tu necesidad\n",
    "    \n",
    "    return None\n",
    "\n",
    "# Aplicar la función a cada fila\n",
    "data['anio'] = data['title'].apply(extraer_anio)\n",
    "data"
   ]
  },
  {
   "cell_type": "code",
   "execution_count": 38,
   "metadata": {},
   "outputs": [
    {
     "name": "stdout",
     "output_type": "stream",
     "text": [
      "<class 'pandas.core.frame.DataFrame'>\n",
      "Index: 85394 entries, 0 to 129970\n",
      "Data columns (total 13 columns):\n",
      " #   Column       Non-Null Count  Dtype  \n",
      "---  ------       --------------  -----  \n",
      " 0   country      85394 non-null  object \n",
      " 1   description  85394 non-null  object \n",
      " 2   designation  85394 non-null  object \n",
      " 3   points       85394 non-null  int64  \n",
      " 4   price        85394 non-null  float64\n",
      " 5   province     85394 non-null  object \n",
      " 6   region_1     85394 non-null  object \n",
      " 7   title        85394 non-null  object \n",
      " 8   variety      85394 non-null  object \n",
      " 9   winery       85394 non-null  object \n",
      " 10  continent    85394 non-null  object \n",
      " 11  sentiment    85394 non-null  object \n",
      " 12  anio         81436 non-null  object \n",
      "dtypes: float64(1), int64(1), object(11)\n",
      "memory usage: 9.1+ MB\n"
     ]
    }
   ],
   "source": [
    "data.info()"
   ]
  },
  {
   "cell_type": "code",
   "execution_count": 39,
   "metadata": {},
   "outputs": [],
   "source": [
    "#data.loc[data.anio.isnull()].to_excel('Vinos_por_anio.xlsx')"
   ]
  },
  {
   "cell_type": "code",
   "execution_count": 40,
   "metadata": {},
   "outputs": [
    {
     "data": {
      "text/plain": [
       "np.int64(3958)"
      ]
     },
     "execution_count": 40,
     "metadata": {},
     "output_type": "execute_result"
    }
   ],
   "source": [
    "data.anio.isnull().sum()"
   ]
  },
  {
   "cell_type": "code",
   "execution_count": 41,
   "metadata": {},
   "outputs": [
    {
     "data": {
      "text/plain": [
       "count    81436.000000\n",
       "mean      2010.572695\n",
       "std          3.935145\n",
       "min       1874.000000\n",
       "25%       2009.000000\n",
       "50%       2011.000000\n",
       "75%       2013.000000\n",
       "max       2017.000000\n",
       "Name: anio, dtype: float64"
      ]
     },
     "execution_count": 41,
     "metadata": {},
     "output_type": "execute_result"
    }
   ],
   "source": [
    "anio_subset = data.anio.dropna().astype(int)\n",
    "anio_subset.describe()"
   ]
  },
  {
   "cell_type": "code",
   "execution_count": 42,
   "metadata": {},
   "outputs": [],
   "source": [
    "imputer = SimpleImputer(strategy='median')\n",
    "data.loc[:, 'anio'] = imputer.fit_transform(data[['anio']])"
   ]
  },
  {
   "cell_type": "code",
   "execution_count": 43,
   "metadata": {},
   "outputs": [],
   "source": [
    "data['anio'] = data['anio'].astype(int)\n",
    "\n",
    "data[\"Antiguedad\"] = 2024 - data.anio"
   ]
  },
  {
   "cell_type": "code",
   "execution_count": 44,
   "metadata": {},
   "outputs": [
    {
     "data": {
      "text/plain": [
       "count    85394.000000\n",
       "mean        13.407499\n",
       "std          3.843915\n",
       "min          7.000000\n",
       "25%         11.000000\n",
       "50%         13.000000\n",
       "75%         15.000000\n",
       "max        150.000000\n",
       "Name: Antiguedad, dtype: float64"
      ]
     },
     "execution_count": 44,
     "metadata": {},
     "output_type": "execute_result"
    }
   ],
   "source": [
    "data.Antiguedad.describe()"
   ]
  },
  {
   "cell_type": "code",
   "execution_count": 45,
   "metadata": {},
   "outputs": [
    {
     "data": {
      "text/plain": [
       "<Axes: ylabel='Frequency'>"
      ]
     },
     "execution_count": 45,
     "metadata": {},
     "output_type": "execute_result"
    },
    {
     "data": {
      "image/png": "[encoded data removed]",
      "text/plain": [
       "<Figure size 640x480 with 1 Axes>"
      ]
     },
     "metadata": {},
     "output_type": "display_data"
    }
   ],
   "source": [
    "data.Antiguedad.plot(kind='hist')"
   ]
  },
  {
   "cell_type": "markdown",
   "metadata": {},
   "source": [
    "variety"
   ]
  },
  {
   "cell_type": "code",
   "execution_count": 46,
   "metadata": {},
   "outputs": [
    {
     "data": {
      "text/plain": [
       "variety\n",
       "Pinot Noir                  9155\n",
       "Chardonnay                  7263\n",
       "Red Blend                   6874\n",
       "Cabernet Sauvignon          5415\n",
       "Riesling                    4041\n",
       "                            ... \n",
       "Garnacha-Cariñena              1\n",
       "Zlahtina                       1\n",
       "Cabernet Franc-Lemberger       1\n",
       "Mavrokalavryta                 1\n",
       "Bobal-Cabernet Sauvignon       1\n",
       "Name: count, Length: 641, dtype: int64"
      ]
     },
     "execution_count": 46,
     "metadata": {},
     "output_type": "execute_result"
    }
   ],
   "source": [
    "data.variety.value_counts()"
   ]
  },
  {
   "cell_type": "markdown",
   "metadata": {},
   "source": [
    "Variedades con mejores puntos"
   ]
  },
  {
   "cell_type": "code",
   "execution_count": 47,
   "metadata": {},
   "outputs": [],
   "source": [
    "variety_points = data.groupby('variety')['points'].mean().sort_values(ascending=False).round(2).head(15)"
   ]
  },
  {
   "cell_type": "code",
   "execution_count": 48,
   "metadata": {},
   "outputs": [
    {
     "data": {
      "text/plain": [
       "variety\n",
       "Cabernet-Shiraz        96.00\n",
       "Tinta del Pais         95.00\n",
       "Gelber Traminer        95.00\n",
       "Syrah-Petit Verdot     94.00\n",
       "Sercial                94.00\n",
       "Riesling-Chardonnay    94.00\n",
       "Muscadelle             93.25\n",
       "Bual                   93.20\n",
       "Garnacha-Cariñena      93.00\n",
       "Ramisco                93.00\n",
       "Rosenmuskateller       92.50\n",
       "Roviello               92.50\n",
       "Picolit                92.12\n",
       "Caprettone             92.00\n",
       "Torontel               92.00\n",
       "Name: points, dtype: float64"
      ]
     },
     "execution_count": 48,
     "metadata": {},
     "output_type": "execute_result"
    }
   ],
   "source": [
    "variety_points"
   ]
  },
  {
   "cell_type": "code",
   "execution_count": 49,
   "metadata": {},
   "outputs": [
    {
     "data": {
      "text/html": [
       "<div>\n",
       "<style scoped>\n",
       "    .dataframe tbody tr th:only-of-type {\n",
       "        vertical-align: middle;\n",
       "    }\n",
       "\n",
       "    .dataframe tbody tr th {\n",
       "        vertical-align: top;\n",
       "    }\n",
       "\n",
       "    .dataframe thead th {\n",
       "        text-align: right;\n",
       "    }\n",
       "</style>\n",
       "<table border=\"1\" class=\"dataframe\">\n",
       "  <thead>\n",
       "    <tr style=\"text-align: right;\">\n",
       "      <th></th>\n",
       "      <th>country</th>\n",
       "      <th>points</th>\n",
       "      <th>price</th>\n",
       "      <th>variety</th>\n",
       "      <th>Antiguedad</th>\n",
       "    </tr>\n",
       "  </thead>\n",
       "  <tbody>\n",
       "    <tr>\n",
       "      <th>346</th>\n",
       "      <td>Australia</td>\n",
       "      <td>98</td>\n",
       "      <td>350.0</td>\n",
       "      <td>Muscadelle</td>\n",
       "      <td>13</td>\n",
       "    </tr>\n",
       "    <tr>\n",
       "      <th>11442</th>\n",
       "      <td>France</td>\n",
       "      <td>91</td>\n",
       "      <td>27.0</td>\n",
       "      <td>Muscadelle</td>\n",
       "      <td>11</td>\n",
       "    </tr>\n",
       "    <tr>\n",
       "      <th>15547</th>\n",
       "      <td>Australia</td>\n",
       "      <td>94</td>\n",
       "      <td>140.0</td>\n",
       "      <td>Muscadelle</td>\n",
       "      <td>13</td>\n",
       "    </tr>\n",
       "    <tr>\n",
       "      <th>15613</th>\n",
       "      <td>Italy</td>\n",
       "      <td>95</td>\n",
       "      <td>100.0</td>\n",
       "      <td>Picolit</td>\n",
       "      <td>20</td>\n",
       "    </tr>\n",
       "    <tr>\n",
       "      <th>16315</th>\n",
       "      <td>Spain</td>\n",
       "      <td>94</td>\n",
       "      <td>45.0</td>\n",
       "      <td>Tinta del Pais</td>\n",
       "      <td>14</td>\n",
       "    </tr>\n",
       "  </tbody>\n",
       "</table>\n",
       "</div>"
      ],
      "text/plain": [
       "         country  points  price         variety  Antiguedad\n",
       "346    Australia      98  350.0      Muscadelle          13\n",
       "11442     France      91   27.0      Muscadelle          11\n",
       "15547  Australia      94  140.0      Muscadelle          13\n",
       "15613      Italy      95  100.0         Picolit          20\n",
       "16315      Spain      94   45.0  Tinta del Pais          14"
      ]
     },
     "execution_count": 49,
     "metadata": {},
     "output_type": "execute_result"
    }
   ],
   "source": [
    "variety_points_data = data[data['variety'].isin(variety_points.index)].filter(['country', 'points', 'price', 'variety', 'Antiguedad'])\n",
    "variety_points_data.head()"
   ]
  },
  {
   "cell_type": "markdown",
   "metadata": {},
   "source": [
    "Que paises producen las mejores variedades?"
   ]
  },
  {
   "cell_type": "code",
   "execution_count": 50,
   "metadata": {},
   "outputs": [
    {
     "data": {
      "text/plain": [
       "<Axes: ylabel='country'>"
      ]
     },
     "execution_count": 50,
     "metadata": {},
     "output_type": "execute_result"
    },
    {
     "data": {
      "image/png": "[encoded data removed]",
      "text/plain": [
       "<Figure size 640x480 with 1 Axes>"
      ]
     },
     "metadata": {},
     "output_type": "display_data"
    }
   ],
   "source": [
    "variety_points_data.groupby('country')['variety'].count().sort_values(ascending=False).plot(kind='barh')"
   ]
  },
  {
   "cell_type": "markdown",
   "metadata": {},
   "source": [
    "Cual es el precio de las mejores variedades?"
   ]
  },
  {
   "cell_type": "code",
   "execution_count": 51,
   "metadata": {},
   "outputs": [
    {
     "data": {
      "text/plain": [
       "<Axes: ylabel='variety'>"
      ]
     },
     "execution_count": 51,
     "metadata": {},
     "output_type": "execute_result"
    },
    {
     "data": {
      "image/png": "[encoded data removed]",
      "text/plain": [
       "<Figure size 640x480 with 1 Axes>"
      ]
     },
     "metadata": {},
     "output_type": "display_data"
    }
   ],
   "source": [
    "variety_points_data.groupby('variety')['price'].mean().sort_values(ascending=False).plot(kind='barh')"
   ]
  },
  {
   "cell_type": "markdown",
   "metadata": {},
   "source": [
    "Cual es la antiguedad de estas variedades?"
   ]
  },
  {
   "cell_type": "code",
   "execution_count": 52,
   "metadata": {},
   "outputs": [
    {
     "data": {
      "text/plain": [
       "<Axes: ylabel='variety'>"
      ]
     },
     "execution_count": 52,
     "metadata": {},
     "output_type": "execute_result"
    },
    {
     "data": {
      "image/png": "[encoded data removed]",
      "text/plain": [
       "<Figure size 640x480 with 1 Axes>"
      ]
     },
     "metadata": {},
     "output_type": "display_data"
    }
   ],
   "source": [
    "variety_points_data.groupby('variety')['Antiguedad'].mean().sort_values(ascending=False).plot(kind='barh')"
   ]
  },
  {
   "cell_type": "markdown",
   "metadata": {},
   "source": [
    "Se puede ver que dentro de los vinos mejores clasificados. Ramisco es el mas caro y con mas antifguedad. Que pais lo produce?"
   ]
  },
  {
   "cell_type": "code",
   "execution_count": 53,
   "metadata": {},
   "outputs": [
    {
     "data": {
      "text/html": [
       "<div>\n",
       "<style scoped>\n",
       "    .dataframe tbody tr th:only-of-type {\n",
       "        vertical-align: middle;\n",
       "    }\n",
       "\n",
       "    .dataframe tbody tr th {\n",
       "        vertical-align: top;\n",
       "    }\n",
       "\n",
       "    .dataframe thead th {\n",
       "        text-align: right;\n",
       "    }\n",
       "</style>\n",
       "<table border=\"1\" class=\"dataframe\">\n",
       "  <thead>\n",
       "    <tr style=\"text-align: right;\">\n",
       "      <th></th>\n",
       "      <th>country</th>\n",
       "      <th>description</th>\n",
       "      <th>designation</th>\n",
       "      <th>points</th>\n",
       "      <th>price</th>\n",
       "      <th>province</th>\n",
       "      <th>region_1</th>\n",
       "      <th>title</th>\n",
       "      <th>variety</th>\n",
       "      <th>winery</th>\n",
       "      <th>continent</th>\n",
       "      <th>sentiment</th>\n",
       "      <th>anio</th>\n",
       "      <th>Antiguedad</th>\n",
       "    </tr>\n",
       "  </thead>\n",
       "  <tbody>\n",
       "    <tr>\n",
       "      <th>107854</th>\n",
       "      <td>Portugal</td>\n",
       "      <td>rare survival come ramisco grape planted roots...</td>\n",
       "      <td>Reserva Velho</td>\n",
       "      <td>93</td>\n",
       "      <td>495.0</td>\n",
       "      <td>Colares</td>\n",
       "      <td>Unknown</td>\n",
       "      <td>Adega Viuva Gomes 1934 Reserva Velho Red (Cola...</td>\n",
       "      <td>Ramisco</td>\n",
       "      <td>Adega Viuva Gomes</td>\n",
       "      <td>Europa</td>\n",
       "      <td>Positive</td>\n",
       "      <td>1934</td>\n",
       "      <td>90</td>\n",
       "    </tr>\n",
       "  </tbody>\n",
       "</table>\n",
       "</div>"
      ],
      "text/plain": [
       "         country                                        description  \\\n",
       "107854  Portugal  rare survival come ramisco grape planted roots...   \n",
       "\n",
       "          designation  points  price province region_1  \\\n",
       "107854  Reserva Velho      93  495.0  Colares  Unknown   \n",
       "\n",
       "                                                    title  variety  \\\n",
       "107854  Adega Viuva Gomes 1934 Reserva Velho Red (Cola...  Ramisco   \n",
       "\n",
       "                   winery continent sentiment  anio  Antiguedad  \n",
       "107854  Adega Viuva Gomes    Europa  Positive  1934          90  "
      ]
     },
     "execution_count": 53,
     "metadata": {},
     "output_type": "execute_result"
    }
   ],
   "source": [
    "data.loc[data.variety == 'Ramisco']"
   ]
  },
  {
   "cell_type": "markdown",
   "metadata": {},
   "source": [
    "Si quisiera saber donde puedo comprar el mejor vino, con el precio mas barato posible. Donde seria? "
   ]
  },
  {
   "cell_type": "code",
   "execution_count": 54,
   "metadata": {},
   "outputs": [
    {
     "data": {
      "text/html": [
       "<div>\n",
       "<style scoped>\n",
       "    .dataframe tbody tr th:only-of-type {\n",
       "        vertical-align: middle;\n",
       "    }\n",
       "\n",
       "    .dataframe tbody tr th {\n",
       "        vertical-align: top;\n",
       "    }\n",
       "\n",
       "    .dataframe thead th {\n",
       "        text-align: right;\n",
       "    }\n",
       "</style>\n",
       "<table border=\"1\" class=\"dataframe\">\n",
       "  <thead>\n",
       "    <tr style=\"text-align: right;\">\n",
       "      <th></th>\n",
       "      <th>country</th>\n",
       "      <th>description</th>\n",
       "      <th>designation</th>\n",
       "      <th>points</th>\n",
       "      <th>price</th>\n",
       "      <th>province</th>\n",
       "      <th>region_1</th>\n",
       "      <th>title</th>\n",
       "      <th>variety</th>\n",
       "      <th>winery</th>\n",
       "      <th>continent</th>\n",
       "      <th>sentiment</th>\n",
       "      <th>anio</th>\n",
       "      <th>Antiguedad</th>\n",
       "      <th>ratio_puntos_precio</th>\n",
       "    </tr>\n",
       "  </thead>\n",
       "  <tbody>\n",
       "    <tr>\n",
       "      <th>126096</th>\n",
       "      <td>Romania</td>\n",
       "      <td>note sundried hay green flower highlight nose ...</td>\n",
       "      <td>UnWineD</td>\n",
       "      <td>86</td>\n",
       "      <td>4.0</td>\n",
       "      <td>Viile Timisului</td>\n",
       "      <td>Unknown</td>\n",
       "      <td>Cramele Recas 2011 UnWineD Pinot Grigio (Viile...</td>\n",
       "      <td>Pinot Grigio</td>\n",
       "      <td>Cramele Recas</td>\n",
       "      <td>Europa</td>\n",
       "      <td>Positive</td>\n",
       "      <td>2011</td>\n",
       "      <td>13</td>\n",
       "      <td>21.50</td>\n",
       "    </tr>\n",
       "    <tr>\n",
       "      <th>1987</th>\n",
       "      <td>Spain</td>\n",
       "      <td>berry cherry aroma surprisingly sturdy clean f...</td>\n",
       "      <td>Flirty Bird</td>\n",
       "      <td>85</td>\n",
       "      <td>4.0</td>\n",
       "      <td>Central Spain</td>\n",
       "      <td>Vino de la Tierra de Castilla</td>\n",
       "      <td>Felix Solis 2013 Flirty Bird Syrah (Vino de la...</td>\n",
       "      <td>Syrah</td>\n",
       "      <td>Felix Solis</td>\n",
       "      <td>Europa</td>\n",
       "      <td>Positive</td>\n",
       "      <td>2013</td>\n",
       "      <td>11</td>\n",
       "      <td>21.25</td>\n",
       "    </tr>\n",
       "    <tr>\n",
       "      <th>112919</th>\n",
       "      <td>Spain</td>\n",
       "      <td>nice nose leafy note mellow redberry aroma bou...</td>\n",
       "      <td>Estate Bottled</td>\n",
       "      <td>84</td>\n",
       "      <td>4.0</td>\n",
       "      <td>Levante</td>\n",
       "      <td>Yecla</td>\n",
       "      <td>Terrenal 2010 Estate Bottled Tempranillo (Yecla)</td>\n",
       "      <td>Tempranillo</td>\n",
       "      <td>Terrenal</td>\n",
       "      <td>Europa</td>\n",
       "      <td>Positive</td>\n",
       "      <td>2010</td>\n",
       "      <td>14</td>\n",
       "      <td>21.00</td>\n",
       "    </tr>\n",
       "    <tr>\n",
       "      <th>29553</th>\n",
       "      <td>Argentina</td>\n",
       "      <td>crimson color translucent candied slightly gre...</td>\n",
       "      <td>Red</td>\n",
       "      <td>84</td>\n",
       "      <td>4.0</td>\n",
       "      <td>Mendoza Province</td>\n",
       "      <td>Mendoza</td>\n",
       "      <td>Broke Ass 2009 Red Malbec-Syrah (Mendoza)</td>\n",
       "      <td>Malbec-Syrah</td>\n",
       "      <td>Broke Ass</td>\n",
       "      <td>America del sur</td>\n",
       "      <td>Positive</td>\n",
       "      <td>2009</td>\n",
       "      <td>15</td>\n",
       "      <td>21.00</td>\n",
       "    </tr>\n",
       "    <tr>\n",
       "      <th>59507</th>\n",
       "      <td>US</td>\n",
       "      <td>sweet fruity canned wine feel soft syrupy suga...</td>\n",
       "      <td>Unoaked</td>\n",
       "      <td>83</td>\n",
       "      <td>4.0</td>\n",
       "      <td>California</td>\n",
       "      <td>California</td>\n",
       "      <td>Pam's Cuties NV Unoaked Chardonnay (California)</td>\n",
       "      <td>Chardonnay</td>\n",
       "      <td>Pam's Cuties</td>\n",
       "      <td>America del norte</td>\n",
       "      <td>Positive</td>\n",
       "      <td>2011</td>\n",
       "      <td>13</td>\n",
       "      <td>20.75</td>\n",
       "    </tr>\n",
       "    <tr>\n",
       "      <th>117303</th>\n",
       "      <td>Spain</td>\n",
       "      <td>tropical fruit citrus aroma arent bad palate h...</td>\n",
       "      <td>Flirty Bird</td>\n",
       "      <td>82</td>\n",
       "      <td>4.0</td>\n",
       "      <td>Central Spain</td>\n",
       "      <td>Vino de la Tierra de Castilla</td>\n",
       "      <td>Felix Solis 2012 Flirty Bird White (Vino de la...</td>\n",
       "      <td>White Blend</td>\n",
       "      <td>Felix Solis</td>\n",
       "      <td>Europa</td>\n",
       "      <td>Negative</td>\n",
       "      <td>2012</td>\n",
       "      <td>12</td>\n",
       "      <td>20.50</td>\n",
       "    </tr>\n",
       "    <tr>\n",
       "      <th>104412</th>\n",
       "      <td>US</td>\n",
       "      <td>sparkling wine best mancans new canned offerin...</td>\n",
       "      <td>Fizz</td>\n",
       "      <td>87</td>\n",
       "      <td>5.0</td>\n",
       "      <td>California</td>\n",
       "      <td>California</td>\n",
       "      <td>Mancan NV Fizz Sparkling (California)</td>\n",
       "      <td>Sparkling Blend</td>\n",
       "      <td>Mancan</td>\n",
       "      <td>America del norte</td>\n",
       "      <td>Positive</td>\n",
       "      <td>2011</td>\n",
       "      <td>13</td>\n",
       "      <td>17.40</td>\n",
       "    </tr>\n",
       "    <tr>\n",
       "      <th>24592</th>\n",
       "      <td>Chile</td>\n",
       "      <td>decent good sb bell whistle lot straightahead ...</td>\n",
       "      <td>Reserva</td>\n",
       "      <td>87</td>\n",
       "      <td>5.0</td>\n",
       "      <td>Aconcagua Valley</td>\n",
       "      <td>Unknown</td>\n",
       "      <td>In Situ 2008 Reserva Sauvignon Blanc (Aconcagu...</td>\n",
       "      <td>Sauvignon Blanc</td>\n",
       "      <td>In Situ</td>\n",
       "      <td>America del sur</td>\n",
       "      <td>Positive</td>\n",
       "      <td>2008</td>\n",
       "      <td>16</td>\n",
       "      <td>17.40</td>\n",
       "    </tr>\n",
       "    <tr>\n",
       "      <th>3167</th>\n",
       "      <td>Italy</td>\n",
       "      <td>packaged pocketfriendly ml bottle fragrant sim...</td>\n",
       "      <td>Mini</td>\n",
       "      <td>86</td>\n",
       "      <td>5.0</td>\n",
       "      <td>Veneto</td>\n",
       "      <td>Prosecco</td>\n",
       "      <td>Anna Spinato NV Mini  (Prosecco)</td>\n",
       "      <td>Glera</td>\n",
       "      <td>Anna Spinato</td>\n",
       "      <td>Europa</td>\n",
       "      <td>Positive</td>\n",
       "      <td>2011</td>\n",
       "      <td>13</td>\n",
       "      <td>17.20</td>\n",
       "    </tr>\n",
       "    <tr>\n",
       "      <th>22200</th>\n",
       "      <td>US</td>\n",
       "      <td>nice everyday wine bone dry savory acidity sho...</td>\n",
       "      <td>Twin Valley</td>\n",
       "      <td>85</td>\n",
       "      <td>5.0</td>\n",
       "      <td>California</td>\n",
       "      <td>California</td>\n",
       "      <td>Gallo Family Vineyards NV Twin Valley Pinot Gr...</td>\n",
       "      <td>Pinot Grigio</td>\n",
       "      <td>Gallo Family Vineyards</td>\n",
       "      <td>America del norte</td>\n",
       "      <td>Positive</td>\n",
       "      <td>2011</td>\n",
       "      <td>13</td>\n",
       "      <td>17.00</td>\n",
       "    </tr>\n",
       "  </tbody>\n",
       "</table>\n",
       "</div>"
      ],
      "text/plain": [
       "          country                                        description  \\\n",
       "126096    Romania  note sundried hay green flower highlight nose ...   \n",
       "1987        Spain  berry cherry aroma surprisingly sturdy clean f...   \n",
       "112919      Spain  nice nose leafy note mellow redberry aroma bou...   \n",
       "29553   Argentina  crimson color translucent candied slightly gre...   \n",
       "59507          US  sweet fruity canned wine feel soft syrupy suga...   \n",
       "117303      Spain  tropical fruit citrus aroma arent bad palate h...   \n",
       "104412         US  sparkling wine best mancans new canned offerin...   \n",
       "24592       Chile  decent good sb bell whistle lot straightahead ...   \n",
       "3167        Italy  packaged pocketfriendly ml bottle fragrant sim...   \n",
       "22200          US  nice everyday wine bone dry savory acidity sho...   \n",
       "\n",
       "           designation  points  price          province  \\\n",
       "126096         UnWineD      86    4.0   Viile Timisului   \n",
       "1987       Flirty Bird      85    4.0     Central Spain   \n",
       "112919  Estate Bottled      84    4.0           Levante   \n",
       "29553              Red      84    4.0  Mendoza Province   \n",
       "59507          Unoaked      83    4.0        California   \n",
       "117303     Flirty Bird      82    4.0     Central Spain   \n",
       "104412            Fizz      87    5.0        California   \n",
       "24592          Reserva      87    5.0  Aconcagua Valley   \n",
       "3167              Mini      86    5.0            Veneto   \n",
       "22200      Twin Valley      85    5.0        California   \n",
       "\n",
       "                             region_1  \\\n",
       "126096                        Unknown   \n",
       "1987    Vino de la Tierra de Castilla   \n",
       "112919                          Yecla   \n",
       "29553                         Mendoza   \n",
       "59507                      California   \n",
       "117303  Vino de la Tierra de Castilla   \n",
       "104412                     California   \n",
       "24592                         Unknown   \n",
       "3167                         Prosecco   \n",
       "22200                      California   \n",
       "\n",
       "                                                    title          variety  \\\n",
       "126096  Cramele Recas 2011 UnWineD Pinot Grigio (Viile...     Pinot Grigio   \n",
       "1987    Felix Solis 2013 Flirty Bird Syrah (Vino de la...            Syrah   \n",
       "112919   Terrenal 2010 Estate Bottled Tempranillo (Yecla)      Tempranillo   \n",
       "29553           Broke Ass 2009 Red Malbec-Syrah (Mendoza)     Malbec-Syrah   \n",
       "59507     Pam's Cuties NV Unoaked Chardonnay (California)       Chardonnay   \n",
       "117303  Felix Solis 2012 Flirty Bird White (Vino de la...      White Blend   \n",
       "104412              Mancan NV Fizz Sparkling (California)  Sparkling Blend   \n",
       "24592   In Situ 2008 Reserva Sauvignon Blanc (Aconcagu...  Sauvignon Blanc   \n",
       "3167                     Anna Spinato NV Mini  (Prosecco)            Glera   \n",
       "22200   Gallo Family Vineyards NV Twin Valley Pinot Gr...     Pinot Grigio   \n",
       "\n",
       "                        winery          continent sentiment  anio  Antiguedad  \\\n",
       "126096           Cramele Recas             Europa  Positive  2011          13   \n",
       "1987               Felix Solis             Europa  Positive  2013          11   \n",
       "112919                Terrenal             Europa  Positive  2010          14   \n",
       "29553                Broke Ass    America del sur  Positive  2009          15   \n",
       "59507             Pam's Cuties  America del norte  Positive  2011          13   \n",
       "117303             Felix Solis             Europa  Negative  2012          12   \n",
       "104412                  Mancan  America del norte  Positive  2011          13   \n",
       "24592                  In Situ    America del sur  Positive  2008          16   \n",
       "3167              Anna Spinato             Europa  Positive  2011          13   \n",
       "22200   Gallo Family Vineyards  America del norte  Positive  2011          13   \n",
       "\n",
       "        ratio_puntos_precio  \n",
       "126096                21.50  \n",
       "1987                  21.25  \n",
       "112919                21.00  \n",
       "29553                 21.00  \n",
       "59507                 20.75  \n",
       "117303                20.50  \n",
       "104412                17.40  \n",
       "24592                 17.40  \n",
       "3167                  17.20  \n",
       "22200                 17.00  "
      ]
     },
     "execution_count": 54,
     "metadata": {},
     "output_type": "execute_result"
    }
   ],
   "source": [
    "data['ratio_puntos_precio'] = data['points'] / data['price']\n",
    "mejor_relacion = data.sort_values(by='ratio_puntos_precio', ascending=False)\n",
    "mejores_vinos = mejor_relacion.head(10)\n",
    "mejores_vinos"
   ]
  },
  {
   "cell_type": "code",
   "execution_count": 57,
   "metadata": {},
   "outputs": [
    {
     "data": {
      "text/plain": [
       "country\n",
       "Romania      21.50\n",
       "Spain        21.25\n",
       "Argentina    21.00\n",
       "US           20.75\n",
       "Chile        17.40\n",
       "Italy        17.20\n",
       "Name: ratio_puntos_precio, dtype: float64"
      ]
     },
     "execution_count": 57,
     "metadata": {},
     "output_type": "execute_result"
    }
   ],
   "source": [
    "mejores_vinos.groupby('country')['ratio_puntos_precio'].max().sort_values(ascending=False)"
   ]
  },
  {
   "cell_type": "code",
   "execution_count": 60,
   "metadata": {},
   "outputs": [
    {
     "data": {
      "text/plain": [
       "Index(['country', 'description', 'designation', 'points', 'price', 'province',\n",
       "       'region_1', 'title', 'variety', 'winery', 'continent', 'sentiment',\n",
       "       'anio', 'Antiguedad', 'ratio_puntos_precio'],\n",
       "      dtype='object')"
      ]
     },
     "execution_count": 60,
     "metadata": {},
     "output_type": "execute_result"
    }
   ],
   "source": [
    "data.columns"
   ]
  },
  {
   "cell_type": "markdown",
   "metadata": {},
   "source": [
    "data"
   ]
  },
  {
   "cell_type": "code",
   "execution_count": 61,
   "metadata": {},
   "outputs": [
    {
     "data": {
      "text/html": [
       "<div>\n",
       "<style scoped>\n",
       "    .dataframe tbody tr th:only-of-type {\n",
       "        vertical-align: middle;\n",
       "    }\n",
       "\n",
       "    .dataframe tbody tr th {\n",
       "        vertical-align: top;\n",
       "    }\n",
       "\n",
       "    .dataframe thead th {\n",
       "        text-align: right;\n",
       "    }\n",
       "</style>\n",
       "<table border=\"1\" class=\"dataframe\">\n",
       "  <thead>\n",
       "    <tr style=\"text-align: right;\">\n",
       "      <th></th>\n",
       "      <th>country</th>\n",
       "      <th>description</th>\n",
       "      <th>designation</th>\n",
       "      <th>points</th>\n",
       "      <th>price</th>\n",
       "      <th>province</th>\n",
       "      <th>region_1</th>\n",
       "      <th>title</th>\n",
       "      <th>variety</th>\n",
       "      <th>winery</th>\n",
       "      <th>continent</th>\n",
       "      <th>sentiment</th>\n",
       "      <th>anio</th>\n",
       "      <th>Antiguedad</th>\n",
       "      <th>ratio_puntos_precio</th>\n",
       "    </tr>\n",
       "  </thead>\n",
       "  <tbody>\n",
       "    <tr>\n",
       "      <th>0</th>\n",
       "      <td>Italy</td>\n",
       "      <td>aroma include tropical fruit broom brimstone d...</td>\n",
       "      <td>Vulkà Bianco</td>\n",
       "      <td>87</td>\n",
       "      <td>28.0</td>\n",
       "      <td>Sicily &amp; Sardinia</td>\n",
       "      <td>Etna</td>\n",
       "      <td>Nicosia 2013 Vulkà Bianco  (Etna)</td>\n",
       "      <td>White Blend</td>\n",
       "      <td>Nicosia</td>\n",
       "      <td>Europa</td>\n",
       "      <td>Positive</td>\n",
       "      <td>2013</td>\n",
       "      <td>11</td>\n",
       "      <td>3.107143</td>\n",
       "    </tr>\n",
       "    <tr>\n",
       "      <th>1</th>\n",
       "      <td>Portugal</td>\n",
       "      <td>ripe fruity wine smooth structured firm tannin...</td>\n",
       "      <td>Avidagos</td>\n",
       "      <td>87</td>\n",
       "      <td>15.0</td>\n",
       "      <td>Douro</td>\n",
       "      <td>Unknown</td>\n",
       "      <td>Quinta dos Avidagos 2011 Avidagos Red (Douro)</td>\n",
       "      <td>Portuguese Red</td>\n",
       "      <td>Quinta dos Avidagos</td>\n",
       "      <td>Europa</td>\n",
       "      <td>Positive</td>\n",
       "      <td>2011</td>\n",
       "      <td>13</td>\n",
       "      <td>5.800000</td>\n",
       "    </tr>\n",
       "    <tr>\n",
       "      <th>3</th>\n",
       "      <td>US</td>\n",
       "      <td>pineapple rind lemon pith orange blossom start...</td>\n",
       "      <td>Reserve Late Harvest</td>\n",
       "      <td>87</td>\n",
       "      <td>13.0</td>\n",
       "      <td>Michigan</td>\n",
       "      <td>Lake Michigan Shore</td>\n",
       "      <td>St. Julian 2013 Reserve Late Harvest Riesling ...</td>\n",
       "      <td>Riesling</td>\n",
       "      <td>St. Julian</td>\n",
       "      <td>America del norte</td>\n",
       "      <td>Negative</td>\n",
       "      <td>2013</td>\n",
       "      <td>11</td>\n",
       "      <td>6.692308</td>\n",
       "    </tr>\n",
       "    <tr>\n",
       "      <th>4</th>\n",
       "      <td>US</td>\n",
       "      <td>like regular bottling come rough tannic rustic...</td>\n",
       "      <td>Vintner's Reserve Wild Child Block</td>\n",
       "      <td>87</td>\n",
       "      <td>65.0</td>\n",
       "      <td>Oregon</td>\n",
       "      <td>Willamette Valley</td>\n",
       "      <td>Sweet Cheeks 2012 Vintner's Reserve Wild Child...</td>\n",
       "      <td>Pinot Noir</td>\n",
       "      <td>Sweet Cheeks</td>\n",
       "      <td>America del norte</td>\n",
       "      <td>Positive</td>\n",
       "      <td>2012</td>\n",
       "      <td>12</td>\n",
       "      <td>1.338462</td>\n",
       "    </tr>\n",
       "    <tr>\n",
       "      <th>5</th>\n",
       "      <td>Spain</td>\n",
       "      <td>blackberry raspberry aroma typical navarran wh...</td>\n",
       "      <td>Ars In Vitro</td>\n",
       "      <td>87</td>\n",
       "      <td>15.0</td>\n",
       "      <td>Northern Spain</td>\n",
       "      <td>Navarra</td>\n",
       "      <td>Tandem 2011 Ars In Vitro Tempranillo-Merlot (N...</td>\n",
       "      <td>Tempranillo-Merlot</td>\n",
       "      <td>Tandem</td>\n",
       "      <td>Europa</td>\n",
       "      <td>Positive</td>\n",
       "      <td>2011</td>\n",
       "      <td>13</td>\n",
       "      <td>5.800000</td>\n",
       "    </tr>\n",
       "    <tr>\n",
       "      <th>...</th>\n",
       "      <td>...</td>\n",
       "      <td>...</td>\n",
       "      <td>...</td>\n",
       "      <td>...</td>\n",
       "      <td>...</td>\n",
       "      <td>...</td>\n",
       "      <td>...</td>\n",
       "      <td>...</td>\n",
       "      <td>...</td>\n",
       "      <td>...</td>\n",
       "      <td>...</td>\n",
       "      <td>...</td>\n",
       "      <td>...</td>\n",
       "      <td>...</td>\n",
       "      <td>...</td>\n",
       "    </tr>\n",
       "    <tr>\n",
       "      <th>129964</th>\n",
       "      <td>France</td>\n",
       "      <td>initially quite muted wine slowly develops imp...</td>\n",
       "      <td>Domaine Saint-Rémy Herrenweg</td>\n",
       "      <td>90</td>\n",
       "      <td>28.0</td>\n",
       "      <td>Alsace</td>\n",
       "      <td>Alsace</td>\n",
       "      <td>Domaine Ehrhart 2013 Domaine Saint-Rémy Herren...</td>\n",
       "      <td>Gewürztraminer</td>\n",
       "      <td>Domaine Ehrhart</td>\n",
       "      <td>Europa</td>\n",
       "      <td>Positive</td>\n",
       "      <td>2013</td>\n",
       "      <td>11</td>\n",
       "      <td>3.214286</td>\n",
       "    </tr>\n",
       "    <tr>\n",
       "      <th>129965</th>\n",
       "      <td>France</td>\n",
       "      <td>rich beautiful dry wine offer considerable fre...</td>\n",
       "      <td>Seppi Landmann Vallée Noble</td>\n",
       "      <td>90</td>\n",
       "      <td>28.0</td>\n",
       "      <td>Alsace</td>\n",
       "      <td>Alsace</td>\n",
       "      <td>Domaine Rieflé-Landmann 2013 Seppi Landmann Va...</td>\n",
       "      <td>Pinot Gris</td>\n",
       "      <td>Domaine Rieflé-Landmann</td>\n",
       "      <td>Europa</td>\n",
       "      <td>Positive</td>\n",
       "      <td>2013</td>\n",
       "      <td>11</td>\n",
       "      <td>3.214286</td>\n",
       "    </tr>\n",
       "    <tr>\n",
       "      <th>129966</th>\n",
       "      <td>Germany</td>\n",
       "      <td>note honeysuckle cantaloupe sweeten deliciousl...</td>\n",
       "      <td>Brauneberger Juffer-Sonnenuhr Spätlese</td>\n",
       "      <td>90</td>\n",
       "      <td>28.0</td>\n",
       "      <td>Mosel</td>\n",
       "      <td>Unknown</td>\n",
       "      <td>Dr. H. Thanisch (Erben Müller-Burggraef) 2013 ...</td>\n",
       "      <td>Riesling</td>\n",
       "      <td>Dr. H. Thanisch (Erben Müller-Burggraef)</td>\n",
       "      <td>Europa</td>\n",
       "      <td>Positive</td>\n",
       "      <td>2013</td>\n",
       "      <td>11</td>\n",
       "      <td>3.214286</td>\n",
       "    </tr>\n",
       "    <tr>\n",
       "      <th>129968</th>\n",
       "      <td>France</td>\n",
       "      <td>welldrained gravel soil give wine crisp dry ch...</td>\n",
       "      <td>Kritt</td>\n",
       "      <td>90</td>\n",
       "      <td>30.0</td>\n",
       "      <td>Alsace</td>\n",
       "      <td>Alsace</td>\n",
       "      <td>Domaine Gresser 2013 Kritt Gewurztraminer (Als...</td>\n",
       "      <td>Gewürztraminer</td>\n",
       "      <td>Domaine Gresser</td>\n",
       "      <td>Europa</td>\n",
       "      <td>Positive</td>\n",
       "      <td>2013</td>\n",
       "      <td>11</td>\n",
       "      <td>3.000000</td>\n",
       "    </tr>\n",
       "    <tr>\n",
       "      <th>129970</th>\n",
       "      <td>France</td>\n",
       "      <td>big rich offdry powered intense spiciness roun...</td>\n",
       "      <td>Lieu-dit Harth Cuvée Caroline</td>\n",
       "      <td>90</td>\n",
       "      <td>21.0</td>\n",
       "      <td>Alsace</td>\n",
       "      <td>Alsace</td>\n",
       "      <td>Domaine Schoffit 2012 Lieu-dit Harth Cuvée Car...</td>\n",
       "      <td>Gewürztraminer</td>\n",
       "      <td>Domaine Schoffit</td>\n",
       "      <td>Europa</td>\n",
       "      <td>Positive</td>\n",
       "      <td>2012</td>\n",
       "      <td>12</td>\n",
       "      <td>4.285714</td>\n",
       "    </tr>\n",
       "  </tbody>\n",
       "</table>\n",
       "<p>85394 rows × 15 columns</p>\n",
       "</div>"
      ],
      "text/plain": [
       "         country                                        description  \\\n",
       "0          Italy  aroma include tropical fruit broom brimstone d...   \n",
       "1       Portugal  ripe fruity wine smooth structured firm tannin...   \n",
       "3             US  pineapple rind lemon pith orange blossom start...   \n",
       "4             US  like regular bottling come rough tannic rustic...   \n",
       "5          Spain  blackberry raspberry aroma typical navarran wh...   \n",
       "...          ...                                                ...   \n",
       "129964    France  initially quite muted wine slowly develops imp...   \n",
       "129965    France  rich beautiful dry wine offer considerable fre...   \n",
       "129966   Germany  note honeysuckle cantaloupe sweeten deliciousl...   \n",
       "129968    France  welldrained gravel soil give wine crisp dry ch...   \n",
       "129970    France  big rich offdry powered intense spiciness roun...   \n",
       "\n",
       "                                   designation  points  price  \\\n",
       "0                                 Vulkà Bianco      87   28.0   \n",
       "1                                     Avidagos      87   15.0   \n",
       "3                         Reserve Late Harvest      87   13.0   \n",
       "4           Vintner's Reserve Wild Child Block      87   65.0   \n",
       "5                                 Ars In Vitro      87   15.0   \n",
       "...                                        ...     ...    ...   \n",
       "129964            Domaine Saint-Rémy Herrenweg      90   28.0   \n",
       "129965             Seppi Landmann Vallée Noble      90   28.0   \n",
       "129966  Brauneberger Juffer-Sonnenuhr Spätlese      90   28.0   \n",
       "129968                                   Kritt      90   30.0   \n",
       "129970           Lieu-dit Harth Cuvée Caroline      90   21.0   \n",
       "\n",
       "                 province             region_1  \\\n",
       "0       Sicily & Sardinia                 Etna   \n",
       "1                   Douro              Unknown   \n",
       "3                Michigan  Lake Michigan Shore   \n",
       "4                  Oregon    Willamette Valley   \n",
       "5          Northern Spain              Navarra   \n",
       "...                   ...                  ...   \n",
       "129964             Alsace               Alsace   \n",
       "129965             Alsace               Alsace   \n",
       "129966              Mosel              Unknown   \n",
       "129968             Alsace               Alsace   \n",
       "129970             Alsace               Alsace   \n",
       "\n",
       "                                                    title             variety  \\\n",
       "0                       Nicosia 2013 Vulkà Bianco  (Etna)         White Blend   \n",
       "1           Quinta dos Avidagos 2011 Avidagos Red (Douro)      Portuguese Red   \n",
       "3       St. Julian 2013 Reserve Late Harvest Riesling ...            Riesling   \n",
       "4       Sweet Cheeks 2012 Vintner's Reserve Wild Child...          Pinot Noir   \n",
       "5       Tandem 2011 Ars In Vitro Tempranillo-Merlot (N...  Tempranillo-Merlot   \n",
       "...                                                   ...                 ...   \n",
       "129964  Domaine Ehrhart 2013 Domaine Saint-Rémy Herren...      Gewürztraminer   \n",
       "129965  Domaine Rieflé-Landmann 2013 Seppi Landmann Va...          Pinot Gris   \n",
       "129966  Dr. H. Thanisch (Erben Müller-Burggraef) 2013 ...            Riesling   \n",
       "129968  Domaine Gresser 2013 Kritt Gewurztraminer (Als...      Gewürztraminer   \n",
       "129970  Domaine Schoffit 2012 Lieu-dit Harth Cuvée Car...      Gewürztraminer   \n",
       "\n",
       "                                          winery          continent sentiment  \\\n",
       "0                                        Nicosia             Europa  Positive   \n",
       "1                            Quinta dos Avidagos             Europa  Positive   \n",
       "3                                     St. Julian  America del norte  Negative   \n",
       "4                                   Sweet Cheeks  America del norte  Positive   \n",
       "5                                         Tandem             Europa  Positive   \n",
       "...                                          ...                ...       ...   \n",
       "129964                           Domaine Ehrhart             Europa  Positive   \n",
       "129965                   Domaine Rieflé-Landmann             Europa  Positive   \n",
       "129966  Dr. H. Thanisch (Erben Müller-Burggraef)             Europa  Positive   \n",
       "129968                           Domaine Gresser             Europa  Positive   \n",
       "129970                          Domaine Schoffit             Europa  Positive   \n",
       "\n",
       "        anio  Antiguedad  ratio_puntos_precio  \n",
       "0       2013          11             3.107143  \n",
       "1       2011          13             5.800000  \n",
       "3       2013          11             6.692308  \n",
       "4       2012          12             1.338462  \n",
       "5       2011          13             5.800000  \n",
       "...      ...         ...                  ...  \n",
       "129964  2013          11             3.214286  \n",
       "129965  2013          11             3.214286  \n",
       "129966  2013          11             3.214286  \n",
       "129968  2013          11             3.000000  \n",
       "129970  2012          12             4.285714  \n",
       "\n",
       "[85394 rows x 15 columns]"
      ]
     },
     "execution_count": 61,
     "metadata": {},
     "output_type": "execute_result"
    }
   ],
   "source": [
    "data"
   ]
  },
  {
   "cell_type": "code",
   "execution_count": null,
   "metadata": {},
   "outputs": [],
   "source": []
  }
 ],
 "metadata": {
  "kernelspec": {
   "display_name": ".venv",
   "language": "python",
   "name": "python3"
  },
  "language_info": {
   "codemirror_mode": {
    "name": "ipython",
    "version": 3
   },
   "file_extension": ".py",
   "mimetype": "text/x-python",
   "name": "python",
   "nbconvert_exporter": "python",
   "pygments_lexer": "ipython3",
   "version": "3.12.4"
  }
 },
 "nbformat": 4,
 "nbformat_minor": 2
}
